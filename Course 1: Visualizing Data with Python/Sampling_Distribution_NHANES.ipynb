{
  "nbformat": 4,
  "nbformat_minor": 0,
  "metadata": {
    "colab": {
      "provenance": [],
      "authorship_tag": "ABX9TyOJZHOGGCs5j2pzi2gxPN2N"
    },
    "kernelspec": {
      "name": "python3",
      "display_name": "Python 3"
    },
    "language_info": {
      "name": "python"
    }
  },
  "cells": [
    {
      "cell_type": "markdown",
      "source": [
        "# Illustration of Sampling Distriubtion using NHANES data\n",
        "---\n",
        "\n",
        "This notebook continues using the NHANES data to explore the sampling distributions of statistics. The topics are theoretical and conceptual, intended to clarify some important concepts about statistcal methods."
      ],
      "metadata": {
        "id": "L3IXodoi6TSQ"
      }
    },
    {
      "cell_type": "code",
      "source": [
        "import matplotlib.pyplot as plt\n",
        "import seaborn as sns\n",
        "import pandas as pd\n",
        "import numpy as np"
      ],
      "metadata": {
        "id": "kVcAUfQ-6zTA"
      },
      "execution_count": 3,
      "outputs": []
    },
    {
      "cell_type": "code",
      "source": [
        "df = pd.read_csv(\"nhanes_2015_2016.csv\")\n",
        "df.info()"
      ],
      "metadata": {
        "colab": {
          "base_uri": "https://localhost:8080/"
        },
        "id": "GqGL7pTs7Ft3",
        "outputId": "8e228210-7943-407e-8ada-c47eaf379f5b"
      },
      "execution_count": 4,
      "outputs": [
        {
          "output_type": "stream",
          "name": "stdout",
          "text": [
            "<class 'pandas.core.frame.DataFrame'>\n",
            "RangeIndex: 5735 entries, 0 to 5734\n",
            "Data columns (total 28 columns):\n",
            " #   Column    Non-Null Count  Dtype  \n",
            "---  ------    --------------  -----  \n",
            " 0   SEQN      5735 non-null   int64  \n",
            " 1   ALQ101    5208 non-null   float64\n",
            " 2   ALQ110    1731 non-null   float64\n",
            " 3   ALQ130    3379 non-null   float64\n",
            " 4   SMQ020    5735 non-null   int64  \n",
            " 5   RIAGENDR  5735 non-null   int64  \n",
            " 6   RIDAGEYR  5735 non-null   int64  \n",
            " 7   RIDRETH1  5735 non-null   int64  \n",
            " 8   DMDCITZN  5734 non-null   float64\n",
            " 9   DMDEDUC2  5474 non-null   float64\n",
            " 10  DMDMARTL  5474 non-null   float64\n",
            " 11  DMDHHSIZ  5735 non-null   int64  \n",
            " 12  WTINT2YR  5735 non-null   float64\n",
            " 13  SDMVPSU   5735 non-null   int64  \n",
            " 14  SDMVSTRA  5735 non-null   int64  \n",
            " 15  INDFMPIR  5134 non-null   float64\n",
            " 16  BPXSY1    5401 non-null   float64\n",
            " 17  BPXDI1    5401 non-null   float64\n",
            " 18  BPXSY2    5535 non-null   float64\n",
            " 19  BPXDI2    5535 non-null   float64\n",
            " 20  BMXWT     5666 non-null   float64\n",
            " 21  BMXHT     5673 non-null   float64\n",
            " 22  BMXBMI    5662 non-null   float64\n",
            " 23  BMXLEG    5345 non-null   float64\n",
            " 24  BMXARML   5427 non-null   float64\n",
            " 25  BMXARMC   5427 non-null   float64\n",
            " 26  BMXWAIST  5368 non-null   float64\n",
            " 27  HIQ210    4732 non-null   float64\n",
            "dtypes: float64(20), int64(8)\n",
            "memory usage: 1.2 MB\n"
          ]
        }
      ]
    },
    {
      "cell_type": "markdown",
      "source": [
        "# Sampling Distribution of the Mean\n",
        "\n",
        "Sampling distributions describe how the value of a statistic computed from data varies when repeated samples of data are obtained. This can be explored using tools from theoretical statistics, or by using a computer to simulate data repeatedly from a hypothetical population.\n",
        "\n",
        "When working with non-simulated data (i.e. from a study like NHANES), we usually do not have the ability to explicitly obtain an \"independent copy\" of the sample to actually \"see\" its sampling distribution. However we can \"subsample\" from a dataset to mimic what would happen if we were to sample repeatedly from the population that produced it. A subsample is a random sample drawn from a larger data set, containing only a fraction of its observations.\n",
        "\n",
        "In the notebook cell below, we repeatedly subsample two disjoint subsets of size 100 from the NHANES data, calculate the mean systolic blood pressure within each of these two subsets, then calculate the difference between these two means. This difference reflects the \"chance variation\" that would have been observed if the NHANES project had only had the resources to sample 100 participants for their study. By sampling two subsets of size 100 and comparing the resulting calculated means, we can see how the findings of two researchers independently studying the same population might differ from each other by chance.\n",
        "\n",
        "The subsampling process described above is then repeated 1000 times, so we can see how two samples of size 100 from the NHANES population tend to differ in terms of their mean systolic blood pressure."
      ],
      "metadata": {
        "id": "Gjh14ivW7QcB"
      }
    },
    {
      "cell_type": "code",
      "source": [
        "# subsample size\n",
        "size = 100\n",
        "# list to store subsample mean difference\n",
        "diff_means = []\n",
        "\n",
        "for i in range(1000):\n",
        "\n",
        "  sampled_dataset = df.sample(2 * size)\n",
        "  first_subsample = sampled_dataset.iloc[0:size, :]\n",
        "  second_subsample = sampled_dataset.iloc[size:, :]\n",
        "\n",
        "  diff_means.append(np.mean(first_subsample['BPXSY1']) - np.mean(second_subsample['BPXSY1']))\n"
      ],
      "metadata": {
        "id": "t0ZVvnBd78hP"
      },
      "execution_count": 5,
      "outputs": []
    },
    {
      "cell_type": "markdown",
      "source": [
        "Next, we look at the histogram of the 1000 mean differences generated above.\n",
        "\n",
        "The values typically fall between -5 and 5. This means that two researchers independently studying blood pressure in the same population may by chance obtain sample means that are up to around 5 units different, but are quite unlikely to obtain sample means that are by chance more than 10 units different."
      ],
      "metadata": {
        "id": "cEslxsb99CcN"
      }
    },
    {
      "cell_type": "code",
      "source": [
        "sns.displot(diff_means)\n",
        "plt.axvline(np.quantile(diff_means, 0.25), color = 'red')\n",
        "plt.axvline(np.quantile(diff_means, 0.75), color = 'red');"
      ],
      "metadata": {
        "colab": {
          "base_uri": "https://localhost:8080/",
          "height": 506
        },
        "id": "OCCJjObp9b_l",
        "outputId": "e20457de-bd4e-4379-f1a1-2d36a8b92e74"
      },
      "execution_count": 6,
      "outputs": [
        {
          "output_type": "display_data",
          "data": {
            "text/plain": [
              "<Figure size 500x500 with 1 Axes>"
            ],
            "image/png": "[encoded data removed]"
          },
          "metadata": {}
        }
      ]
    },
    {
      "cell_type": "markdown",
      "source": [
        "Let's look at some numerical statistics of the histogram plotted above."
      ],
      "metadata": {
        "id": "bz88nXDj99qX"
      }
    },
    {
      "cell_type": "code",
      "source": [
        "pd.Series(diff_means).describe()"
      ],
      "metadata": {
        "colab": {
          "base_uri": "https://localhost:8080/",
          "height": 331
        },
        "id": "vJeyhRqn-Bv7",
        "outputId": "40d5ba10-270c-476d-e300-bea46cf89b67"
      },
      "execution_count": 7,
      "outputs": [
        {
          "output_type": "execute_result",
          "data": {
            "text/plain": [
              "count    1000.000000\n",
              "mean       -0.028919\n",
              "std         2.638743\n",
              "min        -8.614011\n",
              "25%        -1.803188\n",
              "50%        -0.030099\n",
              "75%         1.710671\n",
              "max         8.855511\n",
              "dtype: float64"
            ],
            "text/html": [
              "<div>\n",
              "<style scoped>\n",
              "    .dataframe tbody tr th:only-of-type {\n",
              "        vertical-align: middle;\n",
              "    }\n",
              "\n",
              "    .dataframe tbody tr th {\n",
              "        vertical-align: top;\n",
              "    }\n",
              "\n",
              "    .dataframe thead th {\n",
              "        text-align: right;\n",
              "    }\n",
              "</style>\n",
              "<table border=\"1\" class=\"dataframe\">\n",
              "  <thead>\n",
              "    <tr style=\"text-align: right;\">\n",
              "      <th></th>\n",
              "      <th>0</th>\n",
              "    </tr>\n",
              "  </thead>\n",
              "  <tbody>\n",
              "    <tr>\n",
              "      <th>count</th>\n",
              "      <td>1000.000000</td>\n",
              "    </tr>\n",
              "    <tr>\n",
              "      <th>mean</th>\n",
              "      <td>-0.028919</td>\n",
              "    </tr>\n",
              "    <tr>\n",
              "      <th>std</th>\n",
              "      <td>2.638743</td>\n",
              "    </tr>\n",
              "    <tr>\n",
              "      <th>min</th>\n",
              "      <td>-8.614011</td>\n",
              "    </tr>\n",
              "    <tr>\n",
              "      <th>25%</th>\n",
              "      <td>-1.803188</td>\n",
              "    </tr>\n",
              "    <tr>\n",
              "      <th>50%</th>\n",
              "      <td>-0.030099</td>\n",
              "    </tr>\n",
              "    <tr>\n",
              "      <th>75%</th>\n",
              "      <td>1.710671</td>\n",
              "    </tr>\n",
              "    <tr>\n",
              "      <th>max</th>\n",
              "      <td>8.855511</td>\n",
              "    </tr>\n",
              "  </tbody>\n",
              "</table>\n",
              "</div><br><label><b>dtype:</b> float64</label>"
            ]
          },
          "metadata": {},
          "execution_count": 7
        }
      ]
    },
    {
      "cell_type": "markdown",
      "source": [
        "The results shown above indicate that the systolic blood pressures calculated for two samples each with 100 people will typically differ by around 2.7 mm/Hg (standard deviation).\n",
        "\n",
        "The sample size is a major determinant of the chance fluctuations in any statistic. Above we used samples of size 100, below we perform the same analysis using samples of size 400."
      ],
      "metadata": {
        "id": "V59rs0WT-MiX"
      }
    },
    {
      "cell_type": "code",
      "source": [
        "# subsample size\n",
        "size = 400\n",
        "# list to store subsample mean difference\n",
        "diff_means = []\n",
        "\n",
        "for i in range(1000):\n",
        "\n",
        "  sampled_dataset = df.sample(2 * size)\n",
        "  first_subsample = sampled_dataset.iloc[0:size, :]\n",
        "  second_subsample = sampled_dataset.iloc[size:, :]\n",
        "\n",
        "  diff_means.append(np.mean(first_subsample['BPXSY1']) - np.mean(second_subsample['BPXSY1']))\n"
      ],
      "metadata": {
        "id": "naF3SKAn-mlA"
      },
      "execution_count": 8,
      "outputs": []
    },
    {
      "cell_type": "code",
      "source": [
        "sns.displot(diff_means)\n",
        "plt.axvline(np.quantile(diff_means, 0.25), color = 'red')\n",
        "plt.axvline(np.quantile(diff_means, 0.75), color = 'red');\n",
        "\n",
        "pd.Series(diff_means).describe()"
      ],
      "metadata": {
        "colab": {
          "base_uri": "https://localhost:8080/",
          "height": 820
        },
        "id": "wgAW81KN-qqe",
        "outputId": "26bb82d7-3921-44f9-8f89-247edc59d489"
      },
      "execution_count": 11,
      "outputs": [
        {
          "output_type": "execute_result",
          "data": {
            "text/plain": [
              "count    1000.000000\n",
              "mean       -0.006417\n",
              "std         1.340022\n",
              "min        -4.323848\n",
              "25%        -0.872933\n",
              "50%        -0.018020\n",
              "75%         0.889672\n",
              "max         4.522911\n",
              "dtype: float64"
            ],
            "text/html": [
              "<div>\n",
              "<style scoped>\n",
              "    .dataframe tbody tr th:only-of-type {\n",
              "        vertical-align: middle;\n",
              "    }\n",
              "\n",
              "    .dataframe tbody tr th {\n",
              "        vertical-align: top;\n",
              "    }\n",
              "\n",
              "    .dataframe thead th {\n",
              "        text-align: right;\n",
              "    }\n",
              "</style>\n",
              "<table border=\"1\" class=\"dataframe\">\n",
              "  <thead>\n",
              "    <tr style=\"text-align: right;\">\n",
              "      <th></th>\n",
              "      <th>0</th>\n",
              "    </tr>\n",
              "  </thead>\n",
              "  <tbody>\n",
              "    <tr>\n",
              "      <th>count</th>\n",
              "      <td>1000.000000</td>\n",
              "    </tr>\n",
              "    <tr>\n",
              "      <th>mean</th>\n",
              "      <td>-0.006417</td>\n",
              "    </tr>\n",
              "    <tr>\n",
              "      <th>std</th>\n",
              "      <td>1.340022</td>\n",
              "    </tr>\n",
              "    <tr>\n",
              "      <th>min</th>\n",
              "      <td>-4.323848</td>\n",
              "    </tr>\n",
              "    <tr>\n",
              "      <th>25%</th>\n",
              "      <td>-0.872933</td>\n",
              "    </tr>\n",
              "    <tr>\n",
              "      <th>50%</th>\n",
              "      <td>-0.018020</td>\n",
              "    </tr>\n",
              "    <tr>\n",
              "      <th>75%</th>\n",
              "      <td>0.889672</td>\n",
              "    </tr>\n",
              "    <tr>\n",
              "      <th>max</th>\n",
              "      <td>4.522911</td>\n",
              "    </tr>\n",
              "  </tbody>\n",
              "</table>\n",
              "</div><br><label><b>dtype:</b> float64</label>"
            ]
          },
          "metadata": {},
          "execution_count": 11
        },
        {
          "output_type": "display_data",
          "data": {
            "text/plain": [
              "<Figure size 500x500 with 1 Axes>"
            ],
            "image/png": "[encoded data removed]"
          },
          "metadata": {}
        }
      ]
    },
    {
      "cell_type": "markdown",
      "source": [
        "We can see that with samples of size 400, the standard deviation is around 1.38, which is close to half of what it was when we used samples of size 100. The smaller standard deviation indicates that the chance flucatations in the mean systolic blood pressure are samller when we have a larger sample size. There is greater precision in estimating the population mean systolic blood pressure with a sample size of 400 compared to 100.\n",
        "\n",
        "### Theory\n",
        "Increasing the sample size by a factor of 4 (from 100 to 400) led to a reduction of the standard deviation by a factor of 2. This scaling behavior is very common in statistics -- increasing the sample size by a factor of K leads to a reduction in the standard deviation by a factor of sqrt(K). Thus, for a factor of 4 increase in the sample size we see a factor of 2 reduction in standard deviation. Similarly, for a factor of 9 increase in the sample size we would typically see a factor of 3 reduction in the standard deviation."
      ],
      "metadata": {
        "id": "a530AGGtqWFE"
      }
    },
    {
      "cell_type": "markdown",
      "source": [
        "# Sampling Distribution of Correlation Coefficient\n",
        "---\n",
        "\n",
        "Many statistics that are more complex than the sample mean behave similarly to the mean in terms of their sampling behavior. Below we modify the subsampling analysis from above to consider the Pearson correlation coefficient between systolic and diastolic blood pressure."
      ],
      "metadata": {
        "id": "WrGpWUWSrBxH"
      }
    },
    {
      "cell_type": "code",
      "source": [
        "for sample_size in [100, 400]:\n",
        "\n",
        "  difference = []\n",
        "\n",
        "  for i in range(1000):\n",
        "    sample_df = df.sample(2 * sample_size)\n",
        "    sample_df1 = sample_df.iloc[0:sample_size, :]\n",
        "    sample_df2 = sample_df.iloc[sample_size:, :]\n",
        "\n",
        "    corr_coef1 = sample_df1.loc[:, [\"BPXSY1\", \"BPXDI1\"]].corr().iloc[0, 1]\n",
        "    corr_coef2 = sample_df2.loc[:, [\"BPXSY1\", \"BPXDI1\"]].corr().iloc[0, 1]\n",
        "    difference.append(corr_coef1 - corr_coef2)\n",
        "\n",
        "  print(\"Sample Size: {} | SD: {} | Approximated SD: {}\".format(sample_size, np.std(difference), np.sqrt(2 / sample_size)))"
      ],
      "metadata": {
        "colab": {
          "base_uri": "https://localhost:8080/"
        },
        "id": "5NxoowujrmHr",
        "outputId": "08c5c9de-d177-421b-b39b-2d749a579f56"
      },
      "execution_count": 14,
      "outputs": [
        {
          "output_type": "stream",
          "name": "stdout",
          "text": [
            "Sample Size: 100 | SD: 0.17130738815637966 | Approximated SD: 0.1414213562373095\n",
            "Sample Size: 400 | SD: 0.09011305634688146 | Approximated SD: 0.07071067811865475\n"
          ]
        }
      ]
    },
    {
      "cell_type": "markdown",
      "source": [
        "The simulation above shows that when the subsample size increases from 100 to 400 (a factor of 4), the standard deviation of the difference between two correlation coefficients decreases by roughly a factor of 2. The mathematical expression sqrt(2 / m) is an approximation to this standard deviation that can be computed without access to any data."
      ],
      "metadata": {
        "id": "2P0SVHSXtMIg"
      }
    },
    {
      "cell_type": "markdown",
      "source": [
        "# Shape of Sampling Distribution\n",
        "\n",
        "The focus above was on the magnitude of the difference between a statistic calculated on two independent samples from a population. Here we focus instead on the shape of the distribution of statistics calculated on subsamples.\n",
        "\n",
        "The Central Limit Theorem imples that many (but not all) statistics have approximately normal sampling distributions, even if the underlying data are not close to being normally distributed.\n",
        "\n",
        "Let's illustrate this phenomenon using the systolic blood pressure data from the NHANES study."
      ],
      "metadata": {
        "id": "ic4uyEY_tPXa"
      }
    },
    {
      "cell_type": "code",
      "source": [
        "sns.displot(df['BPXSY1'].dropna())"
      ],
      "metadata": {
        "colab": {
          "base_uri": "https://localhost:8080/",
          "height": 523
        },
        "id": "ebtyAl_5twBI",
        "outputId": "a0503c49-c3cb-4adf-9f28-364f8a7c4cdf"
      },
      "execution_count": 15,
      "outputs": [
        {
          "output_type": "execute_result",
          "data": {
            "text/plain": [
              "<seaborn.axisgrid.FacetGrid at 0x7f8ecf6ad5b0>"
            ]
          },
          "metadata": {},
          "execution_count": 15
        },
        {
          "output_type": "display_data",
          "data": {
            "text/plain": [
              "<Figure size 500x500 with 1 Axes>"
            ],
            "image/png": "[encoded data removed]"
          },
          "metadata": {}
        }
      ]
    },
    {
      "cell_type": "markdown",
      "source": [
        "The histogram shows the distribution of individual systolic blood pressure values are slightly right-skewed.\n",
        "\n",
        "Next, 1000 sample means from 1000 subsamples of size 50 and inspect their distribution."
      ],
      "metadata": {
        "id": "MM18F2Awt3Xp"
      }
    },
    {
      "cell_type": "code",
      "source": [
        "size = 50\n",
        "blood_pressure_mean = []\n",
        "\n",
        "for i in range(1000):\n",
        "  sample_df = df.sample(size)\n",
        "  blood_pressure_mean.append(np.mean(sample_df['BPXSY1'].dropna()))\n",
        "\n",
        "ax = sns.displot(blood_pressure_mean, stat = 'density')\n",
        "ax.set(title = \"Distribution of Sample Means\")\n",
        "\n",
        "# the code below plot the density of a normal approximation to the data generated above\n",
        "x = np.linspace(np.min(blood_pressure_mean), np.max(blood_pressure_mean), 100)\n",
        "from scipy.stats.distributions import norm as normal\n",
        "y = normal.pdf(x, np.mean(blood_pressure_mean), np.std(blood_pressure_mean))\n",
        "plt.plot(x, y, color = 'red');"
      ],
      "metadata": {
        "colab": {
          "base_uri": "https://localhost:8080/",
          "height": 529
        },
        "id": "644_KKnTt-Ix",
        "outputId": "3f0492d3-d7c7-409a-8be4-fdcfae6cbc2c"
      },
      "execution_count": 18,
      "outputs": [
        {
          "output_type": "display_data",
          "data": {
            "text/plain": [
              "<Figure size 500x500 with 1 Axes>"
            ],
            "image/png": "[encoded data removed]"
          },
          "metadata": {}
        }
      ]
    },
    {
      "cell_type": "markdown",
      "source": [
        "The plots above show that while the distribution of individual systolic blood pressure measures is somewhat skewed to the right, the distribution of means of size 50 is approximately symmetric. The distribution of means is also approximately normal, as shown by the red curve, which is the best-fitting normal approximation to the data."
      ],
      "metadata": {
        "id": "UBQNVJ1nuyb-"
      }
    },
    {
      "cell_type": "markdown",
      "source": [
        "# Notes\n",
        "\n",
        "* The idea conveyed was of sampling distributions. From the NHANES dataset, subsamples were taken, and sampling estimates were calculated to show properties of various sampling distributions."
      ],
      "metadata": {
        "id": "-fqiCLdPwYgy"
      }
    }
  ]
}