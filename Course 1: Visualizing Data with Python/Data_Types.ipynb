{
  "nbformat": 4,
  "nbformat_minor": 0,
  "metadata": {
    "colab": {
      "provenance": [],
      "authorship_tag": "ABX9TyMQSm56FmwwUggxA+VrDUkQ"
    },
    "kernelspec": {
      "name": "python3",
      "display_name": "Python 3"
    },
    "language_info": {
      "name": "python"
    }
  },
  "cells": [
    {
      "cell_type": "markdown",
      "source": [
        "# Data Types in Python\n",
        "---\n",
        "\n",
        "In computing, a _data type_ refers to the way in which a value is stored in the computer's memory and the type of calculations that can be performed on it. The following data types can be used in Python:\n",
        "\n",
        "* boolean\n",
        "* integer\n",
        "* float\n",
        "* string\n",
        "* list\n",
        "* None\n",
        "* complex\n",
        "* object\n",
        "* set\n",
        "* dictionary\n",
        "\n",
        "This notebook will focus on the bolded data types, making use of the ones from base Python as well as some data types from **numpy** and **pandas** libraries."
      ],
      "metadata": {
        "id": "OkCj8XpgyjBS"
      }
    },
    {
      "cell_type": "code",
      "execution_count": null,
      "metadata": {
        "id": "sQQg_t0MyKDH"
      },
      "outputs": [],
      "source": [
        "import numpy as np"
      ]
    },
    {
      "cell_type": "markdown",
      "source": [
        "A **variable type** refers to the type of information that is encoded in the variable, and informs the statistical analyses that can be performed on it.\n",
        "\n",
        "## The Quantitative variable type\n",
        "---\n",
        "\n",
        "Quantitative variables usually represent an amount that can be measured in the real world. It is possible to do arithmetic when working with quantitative variables. As a result, statistical summaries like the **mean** make sense. It is useful to distinguish two types of quantitative variables:\n",
        "\n",
        "* Discrete - a variable that can only take on a limited range of values\n",
        "\n",
        "* Continuous - a variable that can, in theory, represent any real number\n",
        "\n",
        "In Python, a single number can be stored as an integer or as a float, depending on how the number is expressed."
      ],
      "metadata": {
        "id": "BHjlM3P9zaBH"
      }
    },
    {
      "cell_type": "code",
      "source": [
        "print(type(4))\n",
        "print(type(4.))\n",
        "print(type(0))\n",
        "print(type(-3))"
      ],
      "metadata": {
        "colab": {
          "base_uri": "https://localhost:8080/"
        },
        "id": "_Z4C2UV60RCb",
        "outputId": "fc784c01-c1df-40d6-c2ad-8dba31bc0f3d"
      },
      "execution_count": null,
      "outputs": [
        {
          "output_type": "stream",
          "name": "stdout",
          "text": [
            "<class 'int'>\n",
            "<class 'float'>\n",
            "<class 'int'>\n",
            "<class 'int'>\n"
          ]
        }
      ]
    },
    {
      "cell_type": "markdown",
      "source": [
        "### Floats\n",
        "\n",
        "Floating point values are the main numeric data type used to represent quantitative data, or any numeric value that is not a whole number."
      ],
      "metadata": {
        "id": "TwqAaPWF0Ybm"
      }
    },
    {
      "cell_type": "code",
      "source": [
        "print(3/5)\n",
        "print(2 * 10 ** (-1))\n",
        "print(type(3/5))"
      ],
      "metadata": {
        "colab": {
          "base_uri": "https://localhost:8080/"
        },
        "id": "mYmQz0140kC2",
        "outputId": "8889a0ce-dbb3-4602-b779-b7c873e9796f"
      },
      "execution_count": null,
      "outputs": [
        {
          "output_type": "stream",
          "name": "stdout",
          "text": [
            "0.6\n",
            "0.2\n",
            "<class 'float'>\n"
          ]
        }
      ]
    },
    {
      "cell_type": "markdown",
      "source": [
        "The integer division operator // divides two integers and drops the remainder, returning an integer value."
      ],
      "metadata": {
        "id": "Ylxog96x00Pm"
      }
    },
    {
      "cell_type": "code",
      "source": [
        "print(8//5)\n",
        "print(type(8//5))\n",
        "\n",
        "print(type(np.pi))\n",
        "print(type(5.1))"
      ],
      "metadata": {
        "colab": {
          "base_uri": "https://localhost:8080/"
        },
        "id": "vgWxUFaM054P",
        "outputId": "0c8312e2-134d-41fc-b71b-7f617480293a"
      },
      "execution_count": null,
      "outputs": [
        {
          "output_type": "stream",
          "name": "stdout",
          "text": [
            "1\n",
            "<class 'int'>\n",
            "<class 'float'>\n",
            "<class 'float'>\n"
          ]
        }
      ]
    },
    {
      "cell_type": "markdown",
      "source": [
        "Python will promote integers to float values when the result of an arithmetic operation cannot be represented as an integer.\n",
        "\n",
        "For example, calculating the mean of a sequence of integers yields"
      ],
      "metadata": {
        "id": "TKeLsMtV1K9Z"
      }
    },
    {
      "cell_type": "code",
      "source": [
        "numbers = [10, 2, -5, 7]\n",
        "print(\"Mean: {}\".format(sum(numbers) / len(numbers)))\n",
        "print(type(sum(numbers) / len(numbers)))"
      ],
      "metadata": {
        "colab": {
          "base_uri": "https://localhost:8080/"
        },
        "id": "4jMaC-JF1f3Z",
        "outputId": "2b9d5d45-4397-46ad-f1b3-73cab4c50fba"
      },
      "execution_count": null,
      "outputs": [
        {
          "output_type": "stream",
          "name": "stdout",
          "text": [
            "Mean: 3.5\n",
            "<class 'float'>\n"
          ]
        }
      ]
    },
    {
      "cell_type": "markdown",
      "source": [
        "Something similar can be done using Numpy. Note that the type obtained here is 'numpy float', which is distinct from 'float'. However, for most purposes, these two varieties of floats are treated the same."
      ],
      "metadata": {
        "id": "-_uMitCn157-"
      }
    },
    {
      "cell_type": "code",
      "source": [
        "numbers = np.array([10, 2, -5, 7])\n",
        "print(\"Mean: {}\".format(numbers.mean()))\n",
        "print(type(numbers.mean()))"
      ],
      "metadata": {
        "colab": {
          "base_uri": "https://localhost:8080/"
        },
        "id": "lqnajWO62SJG",
        "outputId": "d6e19ba5-2afd-4e2f-b789-7413b5ecb552"
      },
      "execution_count": null,
      "outputs": [
        {
          "output_type": "stream",
          "name": "stdout",
          "text": [
            "Mean: 3.5\n",
            "<class 'numpy.float64'>\n"
          ]
        }
      ]
    },
    {
      "cell_type": "markdown",
      "source": [
        "## Categorical Variable types\n",
        "---\n",
        "\n",
        "In statistics, there are two main variants of a categorical variable:\n",
        "\n",
        "* Nominal variables that have no ordering\n",
        "* Ordinal variables that have an ordering\n",
        "\n",
        "In Python, integer (int), boolean (bool), and string (str) data types are often used to represent nominal values.\n",
        "\n",
        "Ordinal values maybe represented by numbers, but it is important to remember that these numbers are codes that do not provide any quantitative information.\n",
        "\n",
        "### Boolean\n",
        "\n",
        "A boolean variable has two possible values: **True** and **False**. A Boolean expression is an expression involving comparison operators (<, <=, >, >=, ==) that evaluates to a Boolean value.\n"
      ],
      "metadata": {
        "id": "uh10RPbs2mBN"
      }
    },
    {
      "cell_type": "code",
      "source": [
        "# Boolean\n",
        "print(type(True))\n",
        "\n",
        "# Print the result of two Boolean expressions\n",
        "print(6 < 5)\n",
        "print(5 < 6)"
      ],
      "metadata": {
        "colab": {
          "base_uri": "https://localhost:8080/"
        },
        "id": "J3myaVWy3Pkv",
        "outputId": "b4b50cac-7d1d-4ec8-b42f-f834ca2f8a69"
      },
      "execution_count": null,
      "outputs": [
        {
          "output_type": "stream",
          "name": "stdout",
          "text": [
            "<class 'bool'>\n",
            "False\n",
            "True\n"
          ]
        }
      ]
    },
    {
      "cell_type": "markdown",
      "source": [
        "Boolean expressions are often used in 'if blocks' to control program flow."
      ],
      "metadata": {
        "id": "1l4PSrho3i9_"
      }
    },
    {
      "cell_type": "code",
      "source": [
        "if 6 < 5:\n",
        "  print(\"6 is less than 5.\")\n",
        "else:\n",
        "  print(\"6 is not less than 5.\")"
      ],
      "metadata": {
        "colab": {
          "base_uri": "https://localhost:8080/"
        },
        "id": "cQ3wwDC83oDX",
        "outputId": "b43738ea-1698-4b36-96dc-7f1b9d187e2d"
      },
      "execution_count": null,
      "outputs": [
        {
          "output_type": "stream",
          "name": "stdout",
          "text": [
            "6 is not less than 5.\n"
          ]
        }
      ]
    },
    {
      "cell_type": "markdown",
      "source": [
        "Square brackets [...] creates a list. The list here contains only values of Boolean type."
      ],
      "metadata": {
        "id": "RuK80gEz35R-"
      }
    },
    {
      "cell_type": "code",
      "source": [
        "myList = [True, 6<5, 1==3, None is None]\n",
        "print(myList)\n",
        "\n",
        "for element in myList:\n",
        "  print(type(element))"
      ],
      "metadata": {
        "colab": {
          "base_uri": "https://localhost:8080/"
        },
        "id": "SthJqssb4c7H",
        "outputId": "59f116b3-6a87-43cb-d231-da5ceab169d5"
      },
      "execution_count": null,
      "outputs": [
        {
          "output_type": "stream",
          "name": "stdout",
          "text": [
            "[True, False, False, True]\n",
            "<class 'bool'>\n",
            "<class 'bool'>\n",
            "<class 'bool'>\n",
            "<class 'bool'>\n"
          ]
        }
      ]
    },
    {
      "cell_type": "markdown",
      "source": [
        "Python converts Boolean values to integers when doing arithmetic: False is converted to 0 and True is converted to 1."
      ],
      "metadata": {
        "id": "ltbdmEuF42j8"
      }
    },
    {
      "cell_type": "code",
      "source": [
        "print(sum(myList)/len(myList))\n",
        "print(type(sum(myList) / len(myList)))"
      ],
      "metadata": {
        "colab": {
          "base_uri": "https://localhost:8080/"
        },
        "id": "MWUobac649p0",
        "outputId": "6598eab3-9bab-41cc-ab2c-625addc0ad42"
      },
      "execution_count": null,
      "outputs": [
        {
          "output_type": "stream",
          "name": "stdout",
          "text": [
            "0.5\n",
            "<class 'float'>\n"
          ]
        }
      ]
    },
    {
      "cell_type": "markdown",
      "source": [
        "### Strings\n",
        "\n",
        "A string is a single 'text' of arbitary length. Technically, text in Python3 is encoded using a scheme called unicode.\n",
        "\n",
        "Single or double quotes are equivalent in Python and can be used to create string literals."
      ],
      "metadata": {
        "id": "N-jQ1rML5KgK"
      }
    },
    {
      "cell_type": "code",
      "source": [
        "print(type('This sentence makes sense.'))\n",
        "print(type(\"This sentence makes sense.\"))"
      ],
      "metadata": {
        "colab": {
          "base_uri": "https://localhost:8080/"
        },
        "id": "NM8QOwNF5Xgi",
        "outputId": "d0f0d1f7-b436-4d73-f69e-01dc87894e04"
      },
      "execution_count": null,
      "outputs": [
        {
          "output_type": "stream",
          "name": "stdout",
          "text": [
            "<class 'str'>\n",
            "<class 'str'>\n"
          ]
        }
      ]
    },
    {
      "cell_type": "markdown",
      "source": [
        "Triple quotes can be used when you want a literal string to span multiple lines."
      ],
      "metadata": {
        "id": "5055ZLF85kbE"
      }
    },
    {
      "cell_type": "code",
      "source": [
        "print(\"\"\"This sentence makes\n",
        "sense. But, does it actually?\n",
        "I guess so!\"\"\")"
      ],
      "metadata": {
        "colab": {
          "base_uri": "https://localhost:8080/"
        },
        "id": "GxggjtCT5qyA",
        "outputId": "b3c7d0b2-94dc-4834-afbf-77cc03711242"
      },
      "execution_count": null,
      "outputs": [
        {
          "output_type": "stream",
          "name": "stdout",
          "text": [
            "This sentence makes\n",
            "sense. But, does it actually?\n",
            "I guess so!\n"
          ]
        }
      ]
    },
    {
      "cell_type": "markdown",
      "source": [
        "A Python expression in quotation marks is a string and is not evaluated as code by the Python interpreter."
      ],
      "metadata": {
        "id": "xF7FoC0l54-j"
      }
    },
    {
      "cell_type": "code",
      "source": [
        "print(type('np.pi'))"
      ],
      "metadata": {
        "colab": {
          "base_uri": "https://localhost:8080/"
        },
        "id": "gz_H1PM26AZw",
        "outputId": "aa81a2d9-d666-4bd8-f3bc-3b0902adf62a"
      },
      "execution_count": null,
      "outputs": [
        {
          "output_type": "stream",
          "name": "stdout",
          "text": [
            "<class 'str'>\n"
          ]
        }
      ]
    },
    {
      "cell_type": "markdown",
      "source": [
        "### Nonetype\n",
        "\n",
        "None is a special value that is a placeholder representing 'no meaningful value'. It is often returned by functions that never return a value, or cannot return a value for certain inputs."
      ],
      "metadata": {
        "id": "nK869k4I6Krn"
      }
    },
    {
      "cell_type": "code",
      "source": [
        "print(type(None))"
      ],
      "metadata": {
        "colab": {
          "base_uri": "https://localhost:8080/"
        },
        "id": "cd7JVGlV6a3l",
        "outputId": "03a336d2-c159-4995-9882-7316d7ab6357"
      },
      "execution_count": null,
      "outputs": [
        {
          "output_type": "stream",
          "name": "stdout",
          "text": [
            "<class 'NoneType'>\n"
          ]
        }
      ]
    },
    {
      "cell_type": "markdown",
      "source": [
        "None can be compared using 'is' or '=='."
      ],
      "metadata": {
        "id": "QT9OMzl66dWd"
      }
    },
    {
      "cell_type": "code",
      "source": [
        "print(None is None)\n",
        "print(None == None)"
      ],
      "metadata": {
        "colab": {
          "base_uri": "https://localhost:8080/"
        },
        "id": "LOjxKrO66hju",
        "outputId": "61441d1a-7543-41a4-a2ff-0029647902c0"
      },
      "execution_count": null,
      "outputs": [
        {
          "output_type": "stream",
          "name": "stdout",
          "text": [
            "True\n",
            "True\n"
          ]
        }
      ]
    },
    {
      "cell_type": "markdown",
      "source": [
        "None cannot be used in arithmetic."
      ],
      "metadata": {
        "id": "esWl3NCG6pKA"
      }
    },
    {
      "cell_type": "code",
      "source": [
        "# executing the command below yields an error\n",
        "# since Nonetype cannot be used for arithmetic\n",
        "\n",
        "# noneList = [None + None]\n"
      ],
      "metadata": {
        "id": "WewTA3ES6ssQ"
      },
      "execution_count": null,
      "outputs": []
    },
    {
      "cell_type": "markdown",
      "source": [
        "### Lists\n",
        "\n",
        "A list can hold values of different types in sequence."
      ],
      "metadata": {
        "id": "SixLFRb37DqW"
      }
    },
    {
      "cell_type": "code",
      "source": [
        "myList = [1, 1.1, \"This is a string\", None]\n",
        "\n",
        "for element in myList:\n",
        "  print(type(element))"
      ],
      "metadata": {
        "colab": {
          "base_uri": "https://localhost:8080/"
        },
        "id": "AzLG7iVO7H7W",
        "outputId": "7aa2ae0c-38e2-474d-a596-46cdbdea0081"
      },
      "execution_count": null,
      "outputs": [
        {
          "output_type": "stream",
          "name": "stdout",
          "text": [
            "<class 'int'>\n",
            "<class 'float'>\n",
            "<class 'str'>\n",
            "<class 'NoneType'>\n"
          ]
        }
      ]
    },
    {
      "cell_type": "code",
      "source": [
        "myList = [10, 20, 25]\n",
        "\n",
        "for element in myList:\n",
        "  print(type(element))\n",
        "\n",
        "print(\"Mean: {}\".format(sum(myList) / len(myList)))"
      ],
      "metadata": {
        "colab": {
          "base_uri": "https://localhost:8080/"
        },
        "id": "qzIYvFzT7Pqq",
        "outputId": "1bc9687b-a09e-42cc-c391-c84101353e6a"
      },
      "execution_count": null,
      "outputs": [
        {
          "output_type": "stream",
          "name": "stdout",
          "text": [
            "<class 'int'>\n",
            "<class 'int'>\n",
            "<class 'int'>\n",
            "Mean: 18.333333333333332\n"
          ]
        }
      ]
    },
    {
      "cell_type": "markdown",
      "source": [
        "Elements of lists and vectors can be accessed by position, noting that Python always counts from zero:"
      ],
      "metadata": {
        "id": "HTwgoUTl7b0n"
      }
    },
    {
      "cell_type": "code",
      "source": [
        "myList = ['third', 'first', 'medium', 'small', 'large']\n",
        "myList[0]"
      ],
      "metadata": {
        "colab": {
          "base_uri": "https://localhost:8080/",
          "height": 35
        },
        "id": "PB3ntV9F7h-E",
        "outputId": "2a37cf70-23f7-42f3-9803-3e65086e7e60"
      },
      "execution_count": null,
      "outputs": [
        {
          "output_type": "execute_result",
          "data": {
            "text/plain": [
              "'third'"
            ],
            "application/vnd.google.colaboratory.intrinsic+json": {
              "type": "string"
            }
          },
          "metadata": {},
          "execution_count": 31
        }
      ]
    },
    {
      "cell_type": "markdown",
      "source": [
        "Methods can be invoked on lists, which may compute a result using the list, or change the contents of the list."
      ],
      "metadata": {
        "id": "0VcXZDgi7seQ"
      }
    },
    {
      "cell_type": "code",
      "source": [
        "myList = [-15, 100, 0, 1, 25, 2, 7, 10, 95, 11, 0]\n",
        "\n",
        "print(\"Frequency of '0' in list: {}\".format(myList.count(0)))\n",
        "print(\"List before sorting: {}\".format(myList))\n",
        "myList.sort()\n",
        "print(\"List after sorting: {}\".format(myList))"
      ],
      "metadata": {
        "colab": {
          "base_uri": "https://localhost:8080/"
        },
        "id": "0ocf0Uey7zMC",
        "outputId": "f3d9b176-7527-457c-8c99-1af150c24909"
      },
      "execution_count": null,
      "outputs": [
        {
          "output_type": "stream",
          "name": "stdout",
          "text": [
            "Frequency of '0' in list: 2\n",
            "List before sorting: [-15, 100, 0, 1, 25, 2, 7, 10, 95, 11, 0]\n",
            "List after sorting: [-15, 0, 0, 1, 2, 7, 10, 11, 25, 95, 100]\n"
          ]
        }
      ]
    }
  ]
}