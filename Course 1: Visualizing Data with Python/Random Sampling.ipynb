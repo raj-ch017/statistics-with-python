{
 "cells": [
  {
   "attachments": {},
   "cell_type": "markdown",
   "metadata": {},
   "source": [
    "# Randomness and Reproducibility\n",
    "---\n",
    "\n",
    "This notebook covers the following:\n",
    "\n",
    "- Randomness and its uses in Python\n",
    "- Utilizing Python seeds to reproduce analysis\n",
    "- Generating random variables from a probability distribution\n",
    "- Random sampling from a population"
   ]
  },
  {
   "cell_type": "markdown",
   "metadata": {},
   "source": [
    "### What is Randomness?\n",
    "\n",
    "In Python, we refer to Randomness as the ability to generate data, strings, or more generally, numbers at random.\n",
    "\n",
    "This can be accomplished by using pseudo-random number generators (PRNGs). PRNGs start with a random number, known as the seed, and then uses an algorithm to generate a psuedo-random sequence based on it.\n",
    "\n",
    "This means that we can replicate the output of a random number generator in python simply by knowing which seed was used.\n",
    "\n"
   ]
  },
  {
   "cell_type": "code",
   "execution_count": 2,
   "metadata": {},
   "outputs": [],
   "source": [
    "import random"
   ]
  },
  {
   "cell_type": "code",
   "execution_count": 5,
   "metadata": {},
   "outputs": [
    {
     "data": {
      "text/plain": [
       "0.9664535356921388"
      ]
     },
     "execution_count": 5,
     "metadata": {},
     "output_type": "execute_result"
    }
   ],
   "source": [
    "random.seed(1234)\n",
    "\n",
    "random.random()"
   ]
  },
  {
   "cell_type": "code",
   "execution_count": 6,
   "metadata": {},
   "outputs": [
    {
     "data": {
      "text/plain": [
       "0.4407325991753527"
      ]
     },
     "execution_count": 6,
     "metadata": {},
     "output_type": "execute_result"
    }
   ],
   "source": [
    "random.random()"
   ]
  },
  {
   "cell_type": "code",
   "execution_count": 7,
   "metadata": {},
   "outputs": [
    {
     "data": {
      "text/plain": [
       "0.9664535356921388"
      ]
     },
     "execution_count": 7,
     "metadata": {},
     "output_type": "execute_result"
    }
   ],
   "source": [
    "random.seed(1234)\n",
    "\n",
    "random.random()"
   ]
  },
  {
   "cell_type": "markdown",
   "metadata": {},
   "source": [
    "Entering the .seed() method later in the code with a number used previously resets the random number generator"
   ]
  },
  {
   "cell_type": "markdown",
   "metadata": {},
   "source": [
    "### Random Numbers from Real-Valued Distributions\n",
    "\n",
    "Uniform Distribution"
   ]
  },
  {
   "cell_type": "code",
   "execution_count": 11,
   "metadata": {},
   "outputs": [
    {
     "data": {
      "text/plain": [
       "19.39268997363764"
      ]
     },
     "execution_count": 11,
     "metadata": {},
     "output_type": "execute_result"
    }
   ],
   "source": [
    "random.uniform(10,20)"
   ]
  },
  {
   "cell_type": "code",
   "execution_count": 17,
   "metadata": {},
   "outputs": [
    {
     "data": {
      "text/plain": [
       "[28.71386596770719,\n",
       " 29.57726618524829,\n",
       " 27.860324242217192,\n",
       " 25.365469512172726,\n",
       " 37.16878851511896,\n",
       " 49.12253902290539,\n",
       " 26.614057024429652,\n",
       " 38.52720463877826,\n",
       " 36.64746397520774,\n",
       " 40.036586239026285]"
      ]
     },
     "execution_count": 17,
     "metadata": {},
     "output_type": "execute_result"
    }
   ],
   "source": [
    "uniform_list = [random.uniform(25,50) for x in range(10)]           # Using List Comprehension to generate a list of uniformly distributed numbers\n",
    "\n",
    "uniform_list"
   ]
  },
  {
   "cell_type": "markdown",
   "metadata": {},
   "source": [
    "Normal Distribution"
   ]
  },
  {
   "cell_type": "code",
   "execution_count": 18,
   "metadata": {},
   "outputs": [
    {
     "data": {
      "text/plain": [
       "1.6498408211746494"
      ]
     },
     "execution_count": 18,
     "metadata": {},
     "output_type": "execute_result"
    }
   ],
   "source": [
    "mu = 5\n",
    "sigma = 2\n",
    "\n",
    "random.normalvariate(mu,sigma)"
   ]
  },
  {
   "cell_type": "code",
   "execution_count": 20,
   "metadata": {},
   "outputs": [
    {
     "data": {
      "text/plain": [
       "[4.063554351507818,\n",
       " 9.174061148656357,\n",
       " 6.82030631532424,\n",
       " 2.564809069928037,\n",
       " 2.826280783952868,\n",
       " 1.786511456266934,\n",
       " 6.001603028867782,\n",
       " 4.102184864847474,\n",
       " 4.683181103583636,\n",
       " 3.798498920495022,\n",
       " 7.66081717238724,\n",
       " 6.711009247790164,\n",
       " 7.537647229940512,\n",
       " 5.841500375245619,\n",
       " 5.4152895848833955,\n",
       " 7.305141591810461,\n",
       " 4.993753243580292,\n",
       " 5.252501289083341,\n",
       " 1.6276696253817264,\n",
       " 2.812094245437756,\n",
       " 6.959785035905158,\n",
       " 3.4586927036689508,\n",
       " 4.12387588357314,\n",
       " 1.757680532025887,\n",
       " 8.412601658731251]"
      ]
     },
     "execution_count": 20,
     "metadata": {},
     "output_type": "execute_result"
    }
   ],
   "source": [
    "normal_list = [random.normalvariate(mu,sigma) for x in range(25)]\n",
    "\n",
    "normal_list"
   ]
  },
  {
   "attachments": {},
   "cell_type": "markdown",
   "metadata": {},
   "source": [
    "### Random Sampling from a Population\n",
    "\n",
    "Simple Random Sampling (SRS) has the following properties:\n",
    "\n",
    "* Start with a known list of N population units, and randomly select n units from the list\n",
    "* Every unit has equal probability of selection = (n/N)\n",
    "* All possible samples of size n are equally likely\n",
    "* Estimates of means, proportions, and totals based on SRS are unbiased"
   ]
  },
  {
   "cell_type": "code",
   "execution_count": 21,
   "metadata": {},
   "outputs": [],
   "source": [
    "import numpy as np"
   ]
  },
  {
   "cell_type": "code",
   "execution_count": 22,
   "metadata": {},
   "outputs": [],
   "source": [
    "mu = 0\n",
    "sigma = 1\n",
    "\n",
    "population = [random.normalvariate(mu,sigma) for j in range(10000)]"
   ]
  },
  {
   "cell_type": "code",
   "execution_count": 23,
   "metadata": {},
   "outputs": [],
   "source": [
    "sampleA = random.sample(population,500)\n",
    "sampleB = random.sample(population,500)"
   ]
  },
  {
   "cell_type": "code",
   "execution_count": 25,
   "metadata": {},
   "outputs": [
    {
     "name": "stdout",
     "output_type": "stream",
     "text": [
      "-0.024612741061785848\n"
     ]
    },
    {
     "data": {
      "text/plain": [
       "0.024612741061785848"
      ]
     },
     "execution_count": 25,
     "metadata": {},
     "output_type": "execute_result"
    }
   ],
   "source": [
    "meanA = np.mean(sampleA)\n",
    "\n",
    "print(meanA)\n",
    "mu - meanA"
   ]
  },
  {
   "cell_type": "code",
   "execution_count": 26,
   "metadata": {},
   "outputs": [
    {
     "data": {
      "text/plain": [
       "1.0109562852834748"
      ]
     },
     "execution_count": 26,
     "metadata": {},
     "output_type": "execute_result"
    }
   ],
   "source": [
    "sdA = np.std(sampleA)\n",
    "\n",
    "sdA"
   ]
  }
 ],
 "metadata": {
  "kernelspec": {
   "display_name": "Python 3.9.12 ('base')",
   "language": "python",
   "name": "python3"
  },
  "language_info": {
   "codemirror_mode": {
    "name": "ipython",
    "version": 3
   },
   "file_extension": ".py",
   "mimetype": "text/x-python",
   "name": "python",
   "nbconvert_exporter": "python",
   "pygments_lexer": "ipython3",
   "version": "3.9.12"
  },
  "orig_nbformat": 4,
  "vscode": {
   "interpreter": {
    "hash": "aca1007d70b315df4c9b81801bc31c75ca1efa36944ab2281816f0b0b706cae3"
   }
  }
 },
 "nbformat": 4,
 "nbformat_minor": 2
}
