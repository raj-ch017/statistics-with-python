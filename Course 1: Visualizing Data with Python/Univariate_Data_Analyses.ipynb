{
  "nbformat": 4,
  "nbformat_minor": 0,
  "metadata": {
    "colab": {
      "provenance": [],
      "authorship_tag": "ABX9TyOW+M0x8K/6ICLkR9RxCTUv"
    },
    "kernelspec": {
      "name": "python3",
      "display_name": "Python 3"
    },
    "language_info": {
      "name": "python"
    }
  },
  "cells": [
    {
      "cell_type": "markdown",
      "source": [
        "# Univariate Data Analyses - NHANES Case Study\n",
        "---\n",
        "\n",
        "This notebook demonstrates using `Pandas` to perform basic analyses with univariate data, using 2015-2016 wave of NHANES cross-sectional study to illustrate the techniques."
      ],
      "metadata": {
        "id": "zIgqLnHw92xp"
      }
    },
    {
      "cell_type": "code",
      "source": [
        "# importing libraries\n",
        "\n",
        "import matplotlib.pyplot as plt\n",
        "import seaborn as sns\n",
        "import pandas as pd\n",
        "import numpy as np"
      ],
      "metadata": {
        "id": "UcXCi49k-pyx"
      },
      "execution_count": null,
      "outputs": []
    },
    {
      "cell_type": "markdown",
      "source": [
        "Next, the NHANES data is loaded from a file into a Pandas dataframe."
      ],
      "metadata": {
        "id": "T9XPI503-w30"
      }
    },
    {
      "cell_type": "code",
      "source": [
        "df = pd.read_csv(\"/content/nhanes_2015_2016.csv\")"
      ],
      "metadata": {
        "id": "v0mFfT4-_4t6"
      },
      "execution_count": null,
      "outputs": []
    },
    {
      "cell_type": "markdown",
      "source": [
        "## Frequency Tables\n",
        "\n",
        "The `value_counts` method can be used to determine the number of times that each distinct value of a variable occurs in a data set.\n",
        "\n",
        "In statistical terminology, this is the `frequency distribution` of the variable. Below, frequency distribution of the `DMDEDUC2` variable is shown, which is a variable that reflects a person's level of educational attainment.\n",
        "\n",
        "The `value_counts` method produces a table with two columns. The first column contains all distinct observed values for the variable. The second column contains the number of times that each of these values occurs.\n",
        "\n",
        "Note that the table returned by `value_counts` is actually a Pandas `data frame`, so it can be further processed using any Pandas methods for working with data frames.\n",
        "\n",
        "The numbers `1, 2, 3, 4, 5, 9` seen below are integer codes for the 6 possible non-missing values of the `DMDEDUC2` variable.\n",
        "\n",
        "This table shows, for example, that 1621 people in the data file have DMDEDUC=4, which indicates that the person has completed some college, but has not graduated with a four-year degree."
      ],
      "metadata": {
        "id": "TXKqkJij_-A-"
      }
    },
    {
      "cell_type": "code",
      "source": [
        "df['DMDEDUC2'].value_counts()"
      ],
      "metadata": {
        "colab": {
          "base_uri": "https://localhost:8080/",
          "height": 303
        },
        "id": "3yVTnfzfA4cM",
        "outputId": "e44fee4c-6a02-4598-b200-c3e99d007b95"
      },
      "execution_count": null,
      "outputs": [
        {
          "output_type": "execute_result",
          "data": {
            "text/plain": [
              "DMDEDUC2\n",
              "4.0    1621\n",
              "5.0    1366\n",
              "3.0    1186\n",
              "1.0     655\n",
              "2.0     643\n",
              "9.0       3\n",
              "Name: count, dtype: int64"
            ],
            "text/html": [
              "<div>\n",
              "<style scoped>\n",
              "    .dataframe tbody tr th:only-of-type {\n",
              "        vertical-align: middle;\n",
              "    }\n",
              "\n",
              "    .dataframe tbody tr th {\n",
              "        vertical-align: top;\n",
              "    }\n",
              "\n",
              "    .dataframe thead th {\n",
              "        text-align: right;\n",
              "    }\n",
              "</style>\n",
              "<table border=\"1\" class=\"dataframe\">\n",
              "  <thead>\n",
              "    <tr style=\"text-align: right;\">\n",
              "      <th></th>\n",
              "      <th>count</th>\n",
              "    </tr>\n",
              "    <tr>\n",
              "      <th>DMDEDUC2</th>\n",
              "      <th></th>\n",
              "    </tr>\n",
              "  </thead>\n",
              "  <tbody>\n",
              "    <tr>\n",
              "      <th>4.0</th>\n",
              "      <td>1621</td>\n",
              "    </tr>\n",
              "    <tr>\n",
              "      <th>5.0</th>\n",
              "      <td>1366</td>\n",
              "    </tr>\n",
              "    <tr>\n",
              "      <th>3.0</th>\n",
              "      <td>1186</td>\n",
              "    </tr>\n",
              "    <tr>\n",
              "      <th>1.0</th>\n",
              "      <td>655</td>\n",
              "    </tr>\n",
              "    <tr>\n",
              "      <th>2.0</th>\n",
              "      <td>643</td>\n",
              "    </tr>\n",
              "    <tr>\n",
              "      <th>9.0</th>\n",
              "      <td>3</td>\n",
              "    </tr>\n",
              "  </tbody>\n",
              "</table>\n",
              "</div><br><label><b>dtype:</b> int64</label>"
            ]
          },
          "metadata": {},
          "execution_count": 4
        }
      ]
    },
    {
      "cell_type": "markdown",
      "source": [
        "**NOTE**: The `value_counts` method excludes missing values. This can be confirmed by adding up the number of observations with a `DMDEDUC2` value equal to `1, 2, 3, 4, 5, or 9` (there are 5474 such rows), and comparing this to the total number of rows in the data set, which is 5735.\n",
        "\n",
        "This tells that there are 5735 - 5474 = 261 missing values for this variable."
      ],
      "metadata": {
        "id": "TWhox8yQA-P4"
      }
    },
    {
      "cell_type": "code",
      "source": [
        "count_of_variable = df[\"DMDEDUC2\"].value_counts().sum()\n",
        "total_rows = df.shape[0]\n",
        "\n",
        "if count_of_variable == total_rows:\n",
        "  print(\"Frequency Count: {} | Total Count: {}\\nNo Values Missing\".format(count_of_variable, total_rows))\n",
        "elif count_of_variable != total_rows:\n",
        "  print(\"Frequency Count: {} | Total Count: {}\\n{} Values Missing\".format(count_of_variable, total_rows, total_rows - count_of_variable))\n"
      ],
      "metadata": {
        "colab": {
          "base_uri": "https://localhost:8080/"
        },
        "id": "OXIxjtXkBUPH",
        "outputId": "b5d1cc35-6205-46a1-ee2b-ca0e52793167"
      },
      "execution_count": null,
      "outputs": [
        {
          "output_type": "stream",
          "name": "stdout",
          "text": [
            "Frequency Count: 5474 | Total Count: 5735\n",
            "261 Values Missing\n"
          ]
        }
      ]
    },
    {
      "cell_type": "markdown",
      "source": [
        "Another way to obtain this result is to locate all the null (missing) values in the data set using the `isnull` Pandas function, and count the number of such locations."
      ],
      "metadata": {
        "id": "zT-rsRjECOmb"
      }
    },
    {
      "cell_type": "code",
      "source": [
        "pd.isnull(df[\"DMDEDUC2\"]).sum()"
      ],
      "metadata": {
        "colab": {
          "base_uri": "https://localhost:8080/"
        },
        "id": "xQjiBMYWCWZb",
        "outputId": "7c7e91a6-7167-478d-aabe-32182dd83533"
      },
      "execution_count": null,
      "outputs": [
        {
          "output_type": "execute_result",
          "data": {
            "text/plain": [
              "np.int64(261)"
            ]
          },
          "metadata": {},
          "execution_count": 6
        }
      ]
    },
    {
      "cell_type": "markdown",
      "source": [
        "In some cases, it is useful to `replace` integer codes with a text label that reflects the code's meaning.\n",
        "\n",
        "Below, a new variable called `DMDEDUC2x` is created that records text labels."
      ],
      "metadata": {
        "id": "yS4XUVX5ChDa"
      }
    },
    {
      "cell_type": "code",
      "source": [
        "df[\"DMDEDUC2x\"] = df[\"DMDEDUC2\"].replace({1: \"<9\", 2: \"9-11\", 3: \"HS/GED\", 4: \"Some college/AA\", 5: \"College\", 7: \"Refused\", 9: \"Don't know\"})\n",
        "\n",
        "df[\"DMDEDUC2x\"].value_counts()"
      ],
      "metadata": {
        "colab": {
          "base_uri": "https://localhost:8080/",
          "height": 303
        },
        "id": "zJxEemfJCt4E",
        "outputId": "b2a7f78b-a363-4aeb-94bc-d99eafacb449"
      },
      "execution_count": null,
      "outputs": [
        {
          "output_type": "execute_result",
          "data": {
            "text/plain": [
              "DMDEDUC2x\n",
              "Some college/AA    1621\n",
              "College            1366\n",
              "HS/GED             1186\n",
              "<9                  655\n",
              "9-11                643\n",
              "Don't know            3\n",
              "Name: count, dtype: int64"
            ],
            "text/html": [
              "<div>\n",
              "<style scoped>\n",
              "    .dataframe tbody tr th:only-of-type {\n",
              "        vertical-align: middle;\n",
              "    }\n",
              "\n",
              "    .dataframe tbody tr th {\n",
              "        vertical-align: top;\n",
              "    }\n",
              "\n",
              "    .dataframe thead th {\n",
              "        text-align: right;\n",
              "    }\n",
              "</style>\n",
              "<table border=\"1\" class=\"dataframe\">\n",
              "  <thead>\n",
              "    <tr style=\"text-align: right;\">\n",
              "      <th></th>\n",
              "      <th>count</th>\n",
              "    </tr>\n",
              "    <tr>\n",
              "      <th>DMDEDUC2x</th>\n",
              "      <th></th>\n",
              "    </tr>\n",
              "  </thead>\n",
              "  <tbody>\n",
              "    <tr>\n",
              "      <th>Some college/AA</th>\n",
              "      <td>1621</td>\n",
              "    </tr>\n",
              "    <tr>\n",
              "      <th>College</th>\n",
              "      <td>1366</td>\n",
              "    </tr>\n",
              "    <tr>\n",
              "      <th>HS/GED</th>\n",
              "      <td>1186</td>\n",
              "    </tr>\n",
              "    <tr>\n",
              "      <th>&lt;9</th>\n",
              "      <td>655</td>\n",
              "    </tr>\n",
              "    <tr>\n",
              "      <th>9-11</th>\n",
              "      <td>643</td>\n",
              "    </tr>\n",
              "    <tr>\n",
              "      <th>Don't know</th>\n",
              "      <td>3</td>\n",
              "    </tr>\n",
              "  </tbody>\n",
              "</table>\n",
              "</div><br><label><b>dtype:</b> int64</label>"
            ]
          },
          "metadata": {},
          "execution_count": 7
        }
      ]
    },
    {
      "cell_type": "markdown",
      "source": [
        "Similarly, a relabeled version of the gender variable can be created. The convention to be followed will be appending an `x` to the end of a categorical variable's name when it has been recorded from numeric to string (text) values."
      ],
      "metadata": {
        "id": "UPFVKQzKDMQD"
      }
    },
    {
      "cell_type": "code",
      "source": [
        "df[\"RIAGENDRx\"] = df[\"RIAGENDR\"].replace({1: \"Male\", 2: \"Female\"})"
      ],
      "metadata": {
        "id": "htThEVaBDcHa"
      },
      "execution_count": null,
      "outputs": []
    },
    {
      "cell_type": "code",
      "source": [
        "df[\"RIAGENDRx\"].value_counts()"
      ],
      "metadata": {
        "colab": {
          "base_uri": "https://localhost:8080/",
          "height": 178
        },
        "id": "OAPcNBc8DnLm",
        "outputId": "0c31ca2a-56ca-41b4-e015-1306d2490061"
      },
      "execution_count": null,
      "outputs": [
        {
          "output_type": "execute_result",
          "data": {
            "text/plain": [
              "RIAGENDRx\n",
              "Female    2976\n",
              "Male      2759\n",
              "Name: count, dtype: int64"
            ],
            "text/html": [
              "<div>\n",
              "<style scoped>\n",
              "    .dataframe tbody tr th:only-of-type {\n",
              "        vertical-align: middle;\n",
              "    }\n",
              "\n",
              "    .dataframe tbody tr th {\n",
              "        vertical-align: top;\n",
              "    }\n",
              "\n",
              "    .dataframe thead th {\n",
              "        text-align: right;\n",
              "    }\n",
              "</style>\n",
              "<table border=\"1\" class=\"dataframe\">\n",
              "  <thead>\n",
              "    <tr style=\"text-align: right;\">\n",
              "      <th></th>\n",
              "      <th>count</th>\n",
              "    </tr>\n",
              "    <tr>\n",
              "      <th>RIAGENDRx</th>\n",
              "      <th></th>\n",
              "    </tr>\n",
              "  </thead>\n",
              "  <tbody>\n",
              "    <tr>\n",
              "      <th>Female</th>\n",
              "      <td>2976</td>\n",
              "    </tr>\n",
              "    <tr>\n",
              "      <th>Male</th>\n",
              "      <td>2759</td>\n",
              "    </tr>\n",
              "  </tbody>\n",
              "</table>\n",
              "</div><br><label><b>dtype:</b> int64</label>"
            ]
          },
          "metadata": {},
          "execution_count": 9
        }
      ]
    },
    {
      "cell_type": "markdown",
      "source": [
        "For many purposes, it is relevant to consider the proportion of the sample with each of the possible category values, rather than the number of people in each category. This can be done as follows:"
      ],
      "metadata": {
        "id": "4BLZLOUyDzV5"
      }
    },
    {
      "cell_type": "code",
      "source": [
        "education_value_count = df[\"DMDEDUC2x\"].value_counts()\n",
        "\n",
        "education_value_count / education_value_count.sum()"
      ],
      "metadata": {
        "colab": {
          "base_uri": "https://localhost:8080/",
          "height": 303
        },
        "id": "USeZ2bQPEMSB",
        "outputId": "320953c7-f68a-4180-e38f-3ea13d3c4b13"
      },
      "execution_count": null,
      "outputs": [
        {
          "output_type": "execute_result",
          "data": {
            "text/plain": [
              "DMDEDUC2x\n",
              "Some college/AA    0.296127\n",
              "College            0.249543\n",
              "HS/GED             0.216661\n",
              "<9                 0.119657\n",
              "9-11               0.117464\n",
              "Don't know         0.000548\n",
              "Name: count, dtype: float64"
            ],
            "text/html": [
              "<div>\n",
              "<style scoped>\n",
              "    .dataframe tbody tr th:only-of-type {\n",
              "        vertical-align: middle;\n",
              "    }\n",
              "\n",
              "    .dataframe tbody tr th {\n",
              "        vertical-align: top;\n",
              "    }\n",
              "\n",
              "    .dataframe thead th {\n",
              "        text-align: right;\n",
              "    }\n",
              "</style>\n",
              "<table border=\"1\" class=\"dataframe\">\n",
              "  <thead>\n",
              "    <tr style=\"text-align: right;\">\n",
              "      <th></th>\n",
              "      <th>count</th>\n",
              "    </tr>\n",
              "    <tr>\n",
              "      <th>DMDEDUC2x</th>\n",
              "      <th></th>\n",
              "    </tr>\n",
              "  </thead>\n",
              "  <tbody>\n",
              "    <tr>\n",
              "      <th>Some college/AA</th>\n",
              "      <td>0.296127</td>\n",
              "    </tr>\n",
              "    <tr>\n",
              "      <th>College</th>\n",
              "      <td>0.249543</td>\n",
              "    </tr>\n",
              "    <tr>\n",
              "      <th>HS/GED</th>\n",
              "      <td>0.216661</td>\n",
              "    </tr>\n",
              "    <tr>\n",
              "      <th>&lt;9</th>\n",
              "      <td>0.119657</td>\n",
              "    </tr>\n",
              "    <tr>\n",
              "      <th>9-11</th>\n",
              "      <td>0.117464</td>\n",
              "    </tr>\n",
              "    <tr>\n",
              "      <th>Don't know</th>\n",
              "      <td>0.000548</td>\n",
              "    </tr>\n",
              "  </tbody>\n",
              "</table>\n",
              "</div><br><label><b>dtype:</b> float64</label>"
            ]
          },
          "metadata": {},
          "execution_count": 10
        }
      ]
    },
    {
      "cell_type": "markdown",
      "source": [
        "According to the results above, 12% of the people with non-missing education value have completed less than 9 years of formal education."
      ],
      "metadata": {
        "id": "Pkufg7TqEc4S"
      }
    },
    {
      "cell_type": "markdown",
      "source": [
        "In some cases, the missing response category might need to be treated as another category of observed response, rather than being ignored when creating summaries.\n",
        "\n",
        "Below, a new category called **Missing** is created and assigned all missing values to is using `fillna`. The frequency distribution is recalculated."
      ],
      "metadata": {
        "id": "Zjs-dzhcEk6-"
      }
    },
    {
      "cell_type": "code",
      "source": [
        "df[\"DMDEDUC2x\"] = df[\"DMDEDUC2x\"].fillna(\"Missing\")\n",
        "\n",
        "education_value_count = df[\"DMDEDUC2x\"].value_counts()\n",
        "education_value_count / education_value_count.sum()"
      ],
      "metadata": {
        "colab": {
          "base_uri": "https://localhost:8080/",
          "height": 334
        },
        "id": "eCCnb3L-E7uw",
        "outputId": "9a718ce5-719f-4efc-c5f6-2c02fbea37ee"
      },
      "execution_count": null,
      "outputs": [
        {
          "output_type": "execute_result",
          "data": {
            "text/plain": [
              "DMDEDUC2x\n",
              "Some college/AA    0.282650\n",
              "College            0.238187\n",
              "HS/GED             0.206800\n",
              "<9                 0.114211\n",
              "9-11               0.112119\n",
              "Missing            0.045510\n",
              "Don't know         0.000523\n",
              "Name: count, dtype: float64"
            ],
            "text/html": [
              "<div>\n",
              "<style scoped>\n",
              "    .dataframe tbody tr th:only-of-type {\n",
              "        vertical-align: middle;\n",
              "    }\n",
              "\n",
              "    .dataframe tbody tr th {\n",
              "        vertical-align: top;\n",
              "    }\n",
              "\n",
              "    .dataframe thead th {\n",
              "        text-align: right;\n",
              "    }\n",
              "</style>\n",
              "<table border=\"1\" class=\"dataframe\">\n",
              "  <thead>\n",
              "    <tr style=\"text-align: right;\">\n",
              "      <th></th>\n",
              "      <th>count</th>\n",
              "    </tr>\n",
              "    <tr>\n",
              "      <th>DMDEDUC2x</th>\n",
              "      <th></th>\n",
              "    </tr>\n",
              "  </thead>\n",
              "  <tbody>\n",
              "    <tr>\n",
              "      <th>Some college/AA</th>\n",
              "      <td>0.282650</td>\n",
              "    </tr>\n",
              "    <tr>\n",
              "      <th>College</th>\n",
              "      <td>0.238187</td>\n",
              "    </tr>\n",
              "    <tr>\n",
              "      <th>HS/GED</th>\n",
              "      <td>0.206800</td>\n",
              "    </tr>\n",
              "    <tr>\n",
              "      <th>&lt;9</th>\n",
              "      <td>0.114211</td>\n",
              "    </tr>\n",
              "    <tr>\n",
              "      <th>9-11</th>\n",
              "      <td>0.112119</td>\n",
              "    </tr>\n",
              "    <tr>\n",
              "      <th>Missing</th>\n",
              "      <td>0.045510</td>\n",
              "    </tr>\n",
              "    <tr>\n",
              "      <th>Don't know</th>\n",
              "      <td>0.000523</td>\n",
              "    </tr>\n",
              "  </tbody>\n",
              "</table>\n",
              "</div><br><label><b>dtype:</b> float64</label>"
            ]
          },
          "metadata": {},
          "execution_count": 11
        }
      ]
    },
    {
      "cell_type": "markdown",
      "source": [
        "The recalculated frequency shows that 4.6% of responses are missing.\n",
        "\n",
        "The percentange of responses with less than 9 years of education drops to 11.4%"
      ],
      "metadata": {
        "id": "DELO6XSaFRl-"
      }
    },
    {
      "cell_type": "markdown",
      "source": [
        "## Numerical Summaries\n",
        "\n",
        "A quick way to get a set of numerical summaries for a quantitative variable is with the `describe` data frame method.\n",
        "\n",
        "In the codeblock below, numerical summaries for the variable `BMXWT` is shown. Missing values are explicitly dropped using the `dropna` method before the summaries are generated."
      ],
      "metadata": {
        "id": "vWfM7LXzAjpf"
      }
    },
    {
      "cell_type": "code",
      "source": [
        "df['BMXWT'].dropna().describe()"
      ],
      "metadata": {
        "colab": {
          "base_uri": "https://localhost:8080/",
          "height": 334
        },
        "id": "ldSS9NQZA8_z",
        "outputId": "d44d3daf-fc5b-4235-80e6-25995b951f25"
      },
      "execution_count": null,
      "outputs": [
        {
          "output_type": "execute_result",
          "data": {
            "text/plain": [
              "count    5666.000000\n",
              "mean       81.342676\n",
              "std        21.764409\n",
              "min        32.400000\n",
              "25%        65.900000\n",
              "50%        78.200000\n",
              "75%        92.700000\n",
              "max       198.900000\n",
              "Name: BMXWT, dtype: float64"
            ],
            "text/html": [
              "<div>\n",
              "<style scoped>\n",
              "    .dataframe tbody tr th:only-of-type {\n",
              "        vertical-align: middle;\n",
              "    }\n",
              "\n",
              "    .dataframe tbody tr th {\n",
              "        vertical-align: top;\n",
              "    }\n",
              "\n",
              "    .dataframe thead th {\n",
              "        text-align: right;\n",
              "    }\n",
              "</style>\n",
              "<table border=\"1\" class=\"dataframe\">\n",
              "  <thead>\n",
              "    <tr style=\"text-align: right;\">\n",
              "      <th></th>\n",
              "      <th>BMXWT</th>\n",
              "    </tr>\n",
              "  </thead>\n",
              "  <tbody>\n",
              "    <tr>\n",
              "      <th>count</th>\n",
              "      <td>5666.000000</td>\n",
              "    </tr>\n",
              "    <tr>\n",
              "      <th>mean</th>\n",
              "      <td>81.342676</td>\n",
              "    </tr>\n",
              "    <tr>\n",
              "      <th>std</th>\n",
              "      <td>21.764409</td>\n",
              "    </tr>\n",
              "    <tr>\n",
              "      <th>min</th>\n",
              "      <td>32.400000</td>\n",
              "    </tr>\n",
              "    <tr>\n",
              "      <th>25%</th>\n",
              "      <td>65.900000</td>\n",
              "    </tr>\n",
              "    <tr>\n",
              "      <th>50%</th>\n",
              "      <td>78.200000</td>\n",
              "    </tr>\n",
              "    <tr>\n",
              "      <th>75%</th>\n",
              "      <td>92.700000</td>\n",
              "    </tr>\n",
              "    <tr>\n",
              "      <th>max</th>\n",
              "      <td>198.900000</td>\n",
              "    </tr>\n",
              "  </tbody>\n",
              "</table>\n",
              "</div><br><label><b>dtype:</b> float64</label>"
            ]
          },
          "metadata": {},
          "execution_count": 12
        }
      ]
    },
    {
      "cell_type": "markdown",
      "source": [
        "It is also possible to calculate individual summary statistics from one column of a data set. This can be done using Pandas methods, or with numpy functions."
      ],
      "metadata": {
        "id": "0QE4iSDBBIdQ"
      }
    },
    {
      "cell_type": "code",
      "source": [
        "# extracting all non-missing values of BMXWT\n",
        "body_wt = df[\"BMXWT\"].dropna()\n",
        "# mean using pandas method\n",
        "print(\"Body weight mean using pandas method: {}\".format(body_wt.mean()))\n",
        "# mean using numpy function\n",
        "print(\"Body weight mean using numpy function: {}\\n\".format(np.mean(body_wt)))\n",
        "\n",
        "# median and 75th percentile using pandas method\n",
        "print(\"Body weight median using pandas method: {}\".format(body_wt.median()))\n",
        "print(\"Body weight 75% using pandas method: {}\\n\".format(body_wt.quantile(0.75)))\n",
        "\n",
        "# median and 75th percentile using numpy function\n",
        "print(\"Body weight median using numpy: {}\".format(np.percentile(body_wt, 50)))\n",
        "print(\"Body weight 75% using numpy: {}\".format(np.percentile(body_wt, 75)))\n"
      ],
      "metadata": {
        "colab": {
          "base_uri": "https://localhost:8080/"
        },
        "id": "uEsuGAZPBPvB",
        "outputId": "1375a444-0ee1-49e0-eaeb-aaa1ed2f9f5f"
      },
      "execution_count": null,
      "outputs": [
        {
          "output_type": "stream",
          "name": "stdout",
          "text": [
            "Body weight mean using pandas method: 81.34267560889516\n",
            "Body weight mean using numpy function: 81.34267560889516\n",
            "\n",
            "Body weight median using pandas method: 78.2\n",
            "Body weight 75% using pandas method: 92.7\n",
            "\n",
            "Body weight median using numpy: 78.2\n",
            "Body weight 75% using numpy: 92.7\n"
          ]
        }
      ]
    },
    {
      "cell_type": "markdown",
      "source": [
        "Next we look at frequencies for a systolic blood pressure measurement `BPXSY1`.\n",
        "\n",
        "\"BPX\" here is the NHANES prefix for blood pressure measurements, \"SY\" stands for \"systolic\" blood pressure (blood pressure at the peak of a heartbeat cycle), and \"1\" indicates that this is the first of three systolic blood presure measurements taken on a subject.\n",
        "\n",
        "A person is generally considered to have pre-hypertension when their systolic blood pressure is between 120 and 139, or their diastolic blood pressure is between 80 and 89.\n",
        "\n",
        "Considering only the systolic condition, we can calculate the proprotion of the NHANES sample who would be considered to have pre-hypertension."
      ],
      "metadata": {
        "id": "-sO6i5txCa5o"
      }
    },
    {
      "cell_type": "code",
      "source": [
        "systol_first = np.mean((df[\"BPXSY1\"] >= 120) & (df[\"BPXSY1\"] <= 139))\n",
        "systol_second = np.mean((df[\"BPXSY2\"] >= 120) & (df[\"BPXSY2\"] <= 139))\n",
        "\n",
        "print(\"Pre-hypertension proportion first systolic measurement: {} \\nPre-hypertension proportion second systolic measurement: {}\".format(systol_first, systol_second))"
      ],
      "metadata": {
        "colab": {
          "base_uri": "https://localhost:8080/"
        },
        "id": "dWaLu3YfCq3l",
        "outputId": "e086655a-d3e8-4935-9e71-bff218b2e193"
      },
      "execution_count": null,
      "outputs": [
        {
          "output_type": "stream",
          "name": "stdout",
          "text": [
            "Pre-hypertension proportion first systolic measurement: 0.366870095902354 \n",
            "Pre-hypertension proportion second systolic measurement: 0.37210113339145595\n"
          ]
        }
      ]
    },
    {
      "cell_type": "markdown",
      "source": [
        "Next, we calculate the proportion of subjects who are pre-hypertensive based on diastolic blood pressure."
      ],
      "metadata": {
        "id": "X1C450gzDRcv"
      }
    },
    {
      "cell_type": "code",
      "source": [
        "dia_first = np.mean((df[\"BPXDI1\"] >= 80) & (df[\"BPXDI1\"] <= 89))\n",
        "dia_second = np.mean((df[\"BPXDI2\"] >= 80) & (df[\"BPXDI2\"] <= 89))\n",
        "\n",
        "print(\"Pre-hypertension proportion first diastolic measurement: {} \\nPre-hypertension proportion second diastolic measurement: {}\".format(dia_first, dia_second))"
      ],
      "metadata": {
        "colab": {
          "base_uri": "https://localhost:8080/"
        },
        "id": "6xPuSzAeDYAh",
        "outputId": "8ac449bb-f5c1-4a81-8c54-5366aa81cb81"
      },
      "execution_count": null,
      "outputs": [
        {
          "output_type": "stream",
          "name": "stdout",
          "text": [
            "Pre-hypertension proportion first diastolic measurement: 0.14699215344376634 \n",
            "Pre-hypertension proportion second diastolic measurement: 0.13670444638186574\n"
          ]
        }
      ]
    },
    {
      "cell_type": "markdown",
      "source": [
        "Finally we calculate the proportion of NHANES subjects who are pre-hypertensive based on either systolic or diastolic blood pressure. Since some people are pre-hypertensive under both criteria, the proportion below is less than the sum of the two proportions calculated above.\n",
        "\n",
        "The combined systolic and diastolic condition for pre-hypertension is somewhat complex, so below we construct temporary variables 'systol' and 'diastol' that hold the systolic and diastolic pre-hypertensive status separately, then combine them with a \"logical or\" to obtain the final status for each subject."
      ],
      "metadata": {
        "id": "a_39SO-UEqJu"
      }
    },
    {
      "cell_type": "code",
      "source": [
        "systol = (df[\"BPXSY1\"] >= 120) & (df[\"BPXSY1\"] <= 139)\n",
        "diastol = (df[\"BPXDI1\"] >= 80) & (df[\"BPXDI1\"] <= 89)\n",
        "print(\"Proportion of subjects with pre-hypertension based on systolic and diastolic measurement: {}\".format(np.mean(systol | diastol)))"
      ],
      "metadata": {
        "colab": {
          "base_uri": "https://localhost:8080/"
        },
        "id": "FHyj34lqFCB0",
        "outputId": "0d79c723-aa42-4b9e-8d2e-a9f45067859c"
      },
      "execution_count": null,
      "outputs": [
        {
          "output_type": "stream",
          "name": "stdout",
          "text": [
            "Proportion of subjects with pre-hypertension based on systolic and diastolic measurement: 0.43173496076721884\n"
          ]
        }
      ]
    },
    {
      "cell_type": "markdown",
      "source": [
        "Blood pressure measurements are affected by a phenomenon called **white coat hypertension**, in which a subject's blood pressure may be slightly elevated if they are nervous when interacting with health care providers. Typically this effect subsides if the blood pressure is measured several times in sequence.\n",
        "\n",
        "In NHANES, both systolic and diastolic blood pressure are meausred three times for each subject (e.g. BPXSY2 is the second measurement of systolic blood pressure). We can calculate the extent to which white coat anxiety is present in the NHANES data by looking at the mean difference between the first two systolic or diastolic blood pressure measurements."
      ],
      "metadata": {
        "id": "CJZWT0U3Flh-"
      }
    },
    {
      "cell_type": "code",
      "source": [
        "print(\"Difference in systolic measurement: {}\".format(np.mean(df[\"BPXSY1\"] - df[\"BPXSY2\"])))\n",
        "print(\"Difference in diastolic measurement: {}\".format(np.mean(df[\"BPXSY1\"] - df[\"BPXSY2\"])))"
      ],
      "metadata": {
        "colab": {
          "base_uri": "https://localhost:8080/"
        },
        "id": "fmqKi47gF7ir",
        "outputId": "4835b4fe-045d-4e53-da16-03a01289ae5e"
      },
      "execution_count": null,
      "outputs": [
        {
          "output_type": "stream",
          "name": "stdout",
          "text": [
            "Difference in systolic measurement: 0.6749860309182343\n"
          ]
        }
      ]
    },
    {
      "cell_type": "markdown",
      "source": [
        "The mean differences are positive. The first systolic blood pressure measurement is around 0.67 mm Hg greater than the second systolic blood pressure measurement, and the first diastolic blood pressure measurement is around 0.35 mm Hg greater than the second diastolic measurement."
      ],
      "metadata": {
        "id": "tPfrjFdtGi5k"
      }
    },
    {
      "cell_type": "markdown",
      "source": [
        "## Graphical Summaries\n",
        "\n",
        "Quantitative variables can be effectively summarised graphically. In the codeblock below, the body weight is shown as a histogram."
      ],
      "metadata": {
        "id": "SUsgxJRjG90U"
      }
    },
    {
      "cell_type": "code",
      "source": [
        "sns.histplot(df[\"BMXWT\"].dropna())\n",
        "plt.title(\"Histogram for Body Weight\")\n",
        "plt.xlabel(\"Body Weight (in kg)\");"
      ],
      "metadata": {
        "colab": {
          "base_uri": "https://localhost:8080/",
          "height": 472
        },
        "id": "3qVTZN0YHI31",
        "outputId": "a864da2f-02df-4566-f441-503ab73ee155"
      },
      "execution_count": null,
      "outputs": [
        {
          "output_type": "display_data",
          "data": {
            "text/plain": [
              "<Figure size 640x480 with 1 Axes>"
            ],
            "image/png": "[encoded data removed]"
          },
          "metadata": {}
        }
      ]
    },
    {
      "cell_type": "markdown",
      "source": [
        "Next, the histogram of systolic blood pressure measurements is plotted."
      ],
      "metadata": {
        "id": "6W7W3ICWHq3p"
      }
    },
    {
      "cell_type": "code",
      "source": [
        "sns.histplot(df[\"BPXSY1\"].dropna())\n",
        "plt.title(\"Histogram for Systolic Blood Pressure\")\n",
        "plt.xlabel(\"Blood pressure in mm/Hg\");"
      ],
      "metadata": {
        "colab": {
          "base_uri": "https://localhost:8080/",
          "height": 472
        },
        "id": "jx3MK19yHuDK",
        "outputId": "73487c57-006b-44a8-cee7-e365522f3a37"
      },
      "execution_count": null,
      "outputs": [
        {
          "output_type": "display_data",
          "data": {
            "text/plain": [
              "<Figure size 640x480 with 1 Axes>"
            ],
            "image/png": "[encoded data removed]"
          },
          "metadata": {}
        }
      ]
    },
    {
      "cell_type": "markdown",
      "source": [
        "To compare several distributions, boxplots can be plotted side-by-side.\n",
        "\n",
        "Below we compare the distributions of the first and second systolic blood pressure measurements (BPXSY1, BPXSY2), and the first and second diastolic blood pressure measurements (BPXDI1, BPXDI2).\n",
        "\n",
        "As expected, diastolic measurements are substantially lower than systolic measurements. Above we saw that the second blood pressure reading on a subject tended on average to be slightly lower than the first measurement. This difference was less than 1 mm/Hg, so is not visible in the \"marginal\" distributions shown below."
      ],
      "metadata": {
        "id": "ckc7Y4k8ICL_"
      }
    },
    {
      "cell_type": "code",
      "source": [
        "sns.boxplot(data = df.loc[:, [\"BPXSY1\", \"BPXSY2\", \"BPXDI1\", \"BPXDI2\"]].dropna())\n",
        "plt.ylabel(\"Blood pressure in mm/Hg\");"
      ],
      "metadata": {
        "colab": {
          "base_uri": "https://localhost:8080/",
          "height": 430
        },
        "id": "X2cOPmGAId7q",
        "outputId": "fe448d53-aee0-4213-8c40-909fe5980bb7"
      },
      "execution_count": null,
      "outputs": [
        {
          "output_type": "display_data",
          "data": {
            "text/plain": [
              "<Figure size 640x480 with 1 Axes>"
            ],
            "image/png": "[encoded data removed]"
          },
          "metadata": {}
        }
      ]
    },
    {
      "cell_type": "markdown",
      "source": [
        "## Stratification\n",
        "\n",
        "One of the most effective ways to get more information out of a dataset is to divide it into smaller, more uniform subsets, and analyze each of these `strata` on its own.\n",
        "\n",
        "We can then formally or informally compare the findings in the different strata. When working with human subjects, it is very common to stratify on demographic factors such as age, sex, and race.\n",
        "\n",
        "To illustrate this technique, consider blood pressure, which is a value that tends to increase with age.\n",
        "\n",
        "To see this trend in the NHANES data, we can partition the data into age strata, and construct side-by-side boxplots of the systolic blood pressure (SBP) distribution within each stratum. Since age is a quantitative variable, we need to create a series of \"bins\" of similar SBP values in order to stratify the data. Each box in the figure below is a summary of univariate data within a specific population stratum (here defined by age)."
      ],
      "metadata": {
        "id": "Ym6ege2PI7LB"
      }
    },
    {
      "cell_type": "code",
      "source": [
        "# creating age strata based on the mentioned cut points\n",
        "df[\"agegrp\"] = pd.cut(df[\"RIDAGEYR\"], [18, 30, 40, 50, 60, 70, 80])\n",
        "\n",
        "# making width of the plot wider\n",
        "plt.figure(figsize = (12, 5))\n",
        "\n",
        "sns.boxplot(x = df['agegrp'], y = df[\"BPXSY1\"], hue = df[\"agegrp\"]);"
      ],
      "metadata": {
        "colab": {
          "base_uri": "https://localhost:8080/",
          "height": 360
        },
        "id": "AlIKtiWJJalK",
        "outputId": "97d44e86-9b34-4c0b-9aba-9ac3bf353010"
      },
      "execution_count": null,
      "outputs": [
        {
          "output_type": "display_data",
          "data": {
            "text/plain": [
              "<Figure size 1200x500 with 1 Axes>"
            ],
            "image/png": "[encoded data removed]"
          },
          "metadata": {}
        }
      ]
    },
    {
      "cell_type": "markdown",
      "source": [
        "The plot above clearly shows the tendency of systolic blood pressure to increase with age. Taking this a step further, it is also the case that blood pressure tends to differ between women and men. While we could simply make two side-by-side boxplots to illustrate this contrast, it would be a bit odd to ignore age after already having established that it is strongly associated with blood pressure. Therefore, we will doubly stratify the data by gender and age.\n",
        "\n",
        "We see from the figure below that within each gender, older people tend to have higher blood pressure than younger people. However within an age band, the relationship between gender and systolic blood pressure is somewhat complex -- in younger people, men have substantially higher blood pressures than women of the same age. However for people older than 50, this relationship becomes much weaker, and among people older than 70 it appears to reverse. It is also notable that the variation of these distributions, reflected in the height of each box in the boxplot, increases with age."
      ],
      "metadata": {
        "id": "L2e3kpldKVr1"
      }
    },
    {
      "cell_type": "code",
      "source": [
        "plt.figure(figsize = (12, 5))\n",
        "\n",
        "sns.boxplot(x = df['agegrp'], y = df['BPXSY1'], hue = df['RIAGENDRx']);\n",
        "plt.xlabel(\"Age Group\")\n",
        "plt.ylabel(\"Systolic Blood Pressure in mm/Hg\");"
      ],
      "metadata": {
        "colab": {
          "base_uri": "https://localhost:8080/",
          "height": 360
        },
        "id": "sIUUzR-fLuVa",
        "outputId": "3bc55f30-e88d-4013-8a22-6e5a9ee5eb9d"
      },
      "execution_count": null,
      "outputs": [
        {
          "output_type": "display_data",
          "data": {
            "text/plain": [
              "<Figure size 1200x500 with 1 Axes>"
            ],
            "image/png": "[encoded data removed]"
          },
          "metadata": {}
        }
      ]
    },
    {
      "cell_type": "markdown",
      "source": [
        "When stratifying on two factors (here age and gender), the boxes can be first grouped by age, and within age bands, by gender, as done above.\n",
        "\n",
        "Another way of grouping will be grouping by gender first, and then within gender group, grouping by age bands. Each approach highlights a different aspect of the data."
      ],
      "metadata": {
        "id": "mxk2_tQ4MSxi"
      }
    },
    {
      "cell_type": "code",
      "source": [
        "plt.figure(figsize = (12, 5))\n",
        "sns.boxplot(x = df[\"RIAGENDRx\"], y = df[\"BPXSY1\"], hue = df[\"agegrp\"])\n",
        "plt.xlabel(\"Gender\")\n",
        "plt.ylabel(\"Systolic Blood Pressure in mm/Hg\");"
      ],
      "metadata": {
        "colab": {
          "base_uri": "https://localhost:8080/",
          "height": 360
        },
        "id": "2epLXe52MjnL",
        "outputId": "4d1dee14-ae1a-4af6-a80c-064e0fc53c10"
      },
      "execution_count": null,
      "outputs": [
        {
          "output_type": "display_data",
          "data": {
            "text/plain": [
              "<Figure size 1200x500 with 1 Axes>"
            ],
            "image/png": "[encoded data removed]"
          },
          "metadata": {}
        }
      ]
    },
    {
      "cell_type": "markdown",
      "source": [
        "Stratification can also be useful when working with categorical variables. Below we look at the frequency distribution of educational attainment (\"DMDEDUC2\") within 10-year age bands. While \"some college\" is the most common response in all age bands, up to around age 60 the second most common response is \"college\" (i.e. the person graduated from college with a four-year degree). However for people over 50, there are as many or more people with only high school or general equivalency diplomas (HS/GED) than there are college graduates.\n",
        "\n",
        "**Note on causality and confounding**: An important role of statistics is to aid researchers in identifying causes underlying observed differences. Here we have seen differences in both blood pressure and educational attainment based on age. It is plausible that aging directly causes blood pressure to increase. But in the case of educational attainment, this is actually a \"birth cohort effect\". NHANES is a cross sectional survey (all data for one wave were collected at a single point in time). People who were, say, 65 in 2015 (when these data were collected), were college-aged around 1970, while people who were in their 20's in 2015 were college-aged in around 2010 or later. Over the last few decades, it has become much more common for people to at least begin a college degree than it was in the past. Therefore, younger people as a group have higher educational attainment than older people as a group. As these young people grow older, the cross sectional relationship between age and educational attainment will change."
      ],
      "metadata": {
        "id": "SfgIk_PkNHdX"
      }
    },
    {
      "cell_type": "code",
      "source": [
        "df.groupby(\"agegrp\")[\"DMDEDUC2x\"].value_counts()"
      ],
      "metadata": {
        "colab": {
          "base_uri": "https://localhost:8080/",
          "height": 1000
        },
        "id": "WY7YBnO_OVVQ",
        "outputId": "1825a8b7-a954-4f92-9b4f-942a311e334d"
      },
      "execution_count": null,
      "outputs": [
        {
          "output_type": "stream",
          "name": "stderr",
          "text": [
            "<ipython-input-50-520d44a62f4e>:1: FutureWarning: The default of observed=False is deprecated and will be changed to True in a future version of pandas. Pass observed=False to retain current behavior or observed=True to adopt the future default and silence this warning.\n",
            "  df.groupby(\"agegrp\")[\"DMDEDUC2x\"].value_counts()\n"
          ]
        },
        {
          "output_type": "execute_result",
          "data": {
            "text/plain": [
              "agegrp    DMDEDUC2x      \n",
              "(18, 30]  Some college/AA    364\n",
              "          College            278\n",
              "          HS/GED             237\n",
              "          Missing            128\n",
              "          9-11                99\n",
              "          <9                  47\n",
              "          Don't know           0\n",
              "(30, 40]  Some college/AA    282\n",
              "          College            264\n",
              "          HS/GED             182\n",
              "          9-11               111\n",
              "          <9                  93\n",
              "          Don't know           0\n",
              "          Missing              0\n",
              "(40, 50]  Some college/AA    262\n",
              "          College            260\n",
              "          HS/GED             171\n",
              "          9-11               112\n",
              "          <9                  98\n",
              "          Don't know           0\n",
              "          Missing              0\n",
              "(50, 60]  Some college/AA    258\n",
              "          College            220\n",
              "          HS/GED             220\n",
              "          9-11               122\n",
              "          <9                 104\n",
              "          Don't know           0\n",
              "          Missing              0\n",
              "(60, 70]  Some college/AA    238\n",
              "          HS/GED             192\n",
              "          College            188\n",
              "          <9                 149\n",
              "          9-11               111\n",
              "          Don't know           0\n",
              "          Missing              0\n",
              "(70, 80]  Some college/AA    217\n",
              "          HS/GED             184\n",
              "          <9                 164\n",
              "          College            156\n",
              "          9-11                88\n",
              "          Don't know           3\n",
              "          Missing              0\n",
              "Name: count, dtype: int64"
            ],
            "text/html": [
              "<div>\n",
              "<style scoped>\n",
              "    .dataframe tbody tr th:only-of-type {\n",
              "        vertical-align: middle;\n",
              "    }\n",
              "\n",
              "    .dataframe tbody tr th {\n",
              "        vertical-align: top;\n",
              "    }\n",
              "\n",
              "    .dataframe thead th {\n",
              "        text-align: right;\n",
              "    }\n",
              "</style>\n",
              "<table border=\"1\" class=\"dataframe\">\n",
              "  <thead>\n",
              "    <tr style=\"text-align: right;\">\n",
              "      <th></th>\n",
              "      <th></th>\n",
              "      <th>count</th>\n",
              "    </tr>\n",
              "    <tr>\n",
              "      <th>agegrp</th>\n",
              "      <th>DMDEDUC2x</th>\n",
              "      <th></th>\n",
              "    </tr>\n",
              "  </thead>\n",
              "  <tbody>\n",
              "    <tr>\n",
              "      <th rowspan=\"7\" valign=\"top\">(18, 30]</th>\n",
              "      <th>Some college/AA</th>\n",
              "      <td>364</td>\n",
              "    </tr>\n",
              "    <tr>\n",
              "      <th>College</th>\n",
              "      <td>278</td>\n",
              "    </tr>\n",
              "    <tr>\n",
              "      <th>HS/GED</th>\n",
              "      <td>237</td>\n",
              "    </tr>\n",
              "    <tr>\n",
              "      <th>Missing</th>\n",
              "      <td>128</td>\n",
              "    </tr>\n",
              "    <tr>\n",
              "      <th>9-11</th>\n",
              "      <td>99</td>\n",
              "    </tr>\n",
              "    <tr>\n",
              "      <th>&lt;9</th>\n",
              "      <td>47</td>\n",
              "    </tr>\n",
              "    <tr>\n",
              "      <th>Don't know</th>\n",
              "      <td>0</td>\n",
              "    </tr>\n",
              "    <tr>\n",
              "      <th rowspan=\"7\" valign=\"top\">(30, 40]</th>\n",
              "      <th>Some college/AA</th>\n",
              "      <td>282</td>\n",
              "    </tr>\n",
              "    <tr>\n",
              "      <th>College</th>\n",
              "      <td>264</td>\n",
              "    </tr>\n",
              "    <tr>\n",
              "      <th>HS/GED</th>\n",
              "      <td>182</td>\n",
              "    </tr>\n",
              "    <tr>\n",
              "      <th>9-11</th>\n",
              "      <td>111</td>\n",
              "    </tr>\n",
              "    <tr>\n",
              "      <th>&lt;9</th>\n",
              "      <td>93</td>\n",
              "    </tr>\n",
              "    <tr>\n",
              "      <th>Don't know</th>\n",
              "      <td>0</td>\n",
              "    </tr>\n",
              "    <tr>\n",
              "      <th>Missing</th>\n",
              "      <td>0</td>\n",
              "    </tr>\n",
              "    <tr>\n",
              "      <th rowspan=\"7\" valign=\"top\">(40, 50]</th>\n",
              "      <th>Some college/AA</th>\n",
              "      <td>262</td>\n",
              "    </tr>\n",
              "    <tr>\n",
              "      <th>College</th>\n",
              "      <td>260</td>\n",
              "    </tr>\n",
              "    <tr>\n",
              "      <th>HS/GED</th>\n",
              "      <td>171</td>\n",
              "    </tr>\n",
              "    <tr>\n",
              "      <th>9-11</th>\n",
              "      <td>112</td>\n",
              "    </tr>\n",
              "    <tr>\n",
              "      <th>&lt;9</th>\n",
              "      <td>98</td>\n",
              "    </tr>\n",
              "    <tr>\n",
              "      <th>Don't know</th>\n",
              "      <td>0</td>\n",
              "    </tr>\n",
              "    <tr>\n",
              "      <th>Missing</th>\n",
              "      <td>0</td>\n",
              "    </tr>\n",
              "    <tr>\n",
              "      <th rowspan=\"7\" valign=\"top\">(50, 60]</th>\n",
              "      <th>Some college/AA</th>\n",
              "      <td>258</td>\n",
              "    </tr>\n",
              "    <tr>\n",
              "      <th>College</th>\n",
              "      <td>220</td>\n",
              "    </tr>\n",
              "    <tr>\n",
              "      <th>HS/GED</th>\n",
              "      <td>220</td>\n",
              "    </tr>\n",
              "    <tr>\n",
              "      <th>9-11</th>\n",
              "      <td>122</td>\n",
              "    </tr>\n",
              "    <tr>\n",
              "      <th>&lt;9</th>\n",
              "      <td>104</td>\n",
              "    </tr>\n",
              "    <tr>\n",
              "      <th>Don't know</th>\n",
              "      <td>0</td>\n",
              "    </tr>\n",
              "    <tr>\n",
              "      <th>Missing</th>\n",
              "      <td>0</td>\n",
              "    </tr>\n",
              "    <tr>\n",
              "      <th rowspan=\"7\" valign=\"top\">(60, 70]</th>\n",
              "      <th>Some college/AA</th>\n",
              "      <td>238</td>\n",
              "    </tr>\n",
              "    <tr>\n",
              "      <th>HS/GED</th>\n",
              "      <td>192</td>\n",
              "    </tr>\n",
              "    <tr>\n",
              "      <th>College</th>\n",
              "      <td>188</td>\n",
              "    </tr>\n",
              "    <tr>\n",
              "      <th>&lt;9</th>\n",
              "      <td>149</td>\n",
              "    </tr>\n",
              "    <tr>\n",
              "      <th>9-11</th>\n",
              "      <td>111</td>\n",
              "    </tr>\n",
              "    <tr>\n",
              "      <th>Don't know</th>\n",
              "      <td>0</td>\n",
              "    </tr>\n",
              "    <tr>\n",
              "      <th>Missing</th>\n",
              "      <td>0</td>\n",
              "    </tr>\n",
              "    <tr>\n",
              "      <th rowspan=\"7\" valign=\"top\">(70, 80]</th>\n",
              "      <th>Some college/AA</th>\n",
              "      <td>217</td>\n",
              "    </tr>\n",
              "    <tr>\n",
              "      <th>HS/GED</th>\n",
              "      <td>184</td>\n",
              "    </tr>\n",
              "    <tr>\n",
              "      <th>&lt;9</th>\n",
              "      <td>164</td>\n",
              "    </tr>\n",
              "    <tr>\n",
              "      <th>College</th>\n",
              "      <td>156</td>\n",
              "    </tr>\n",
              "    <tr>\n",
              "      <th>9-11</th>\n",
              "      <td>88</td>\n",
              "    </tr>\n",
              "    <tr>\n",
              "      <th>Don't know</th>\n",
              "      <td>3</td>\n",
              "    </tr>\n",
              "    <tr>\n",
              "      <th>Missing</th>\n",
              "      <td>0</td>\n",
              "    </tr>\n",
              "  </tbody>\n",
              "</table>\n",
              "</div><br><label><b>dtype:</b> int64</label>"
            ]
          },
          "metadata": {},
          "execution_count": 50
        }
      ]
    },
    {
      "cell_type": "markdown",
      "source": [
        "We can also stratify jointly by age and gender to explore how educational attainment varies by both of these factors simultaneously.\n",
        "\n",
        "In doing this, it is easier to interpret the results if we pivot the education levels into the columns, and normalize the counts so that they sum to 1.\n",
        "\n",
        "After doing this, the results can be interpreted as proportions or probabilities. One notable observation from this table is that for people up to age around 60, women are more likely to have graduated from college than men, but for people over aged 60, this relationship reverses."
      ],
      "metadata": {
        "id": "NtSlUgpTOqr3"
      }
    },
    {
      "cell_type": "code",
      "source": [
        "modified_df = df.loc[~df[\"DMDEDUC2x\"].isin([\"Don't know\", \"Missing\"]), :]\n",
        "\n",
        "modified_df = modified_df.groupby([\"agegrp\", \"RIAGENDRx\"])[\"DMDEDUC2x\"]\n",
        "modified_df = modified_df.value_counts()\n",
        "\n",
        "# restructing the results from 'long' to 'wide'\n",
        "modified_df = modified_df.unstack()\n",
        "modified_df = modified_df.apply(lambda x: x/x.sum(), axis = 1)\n",
        "\n",
        "print(modified_df.to_string(float_format=\"%.3f\"));"
      ],
      "metadata": {
        "colab": {
          "base_uri": "https://localhost:8080/"
        },
        "id": "TBEMQzY8PCAZ",
        "outputId": "f5697070-e1e9-4781-ef15-be86c0599b35"
      },
      "execution_count": null,
      "outputs": [
        {
          "output_type": "stream",
          "name": "stdout",
          "text": [
            "DMDEDUC2x           9-11    <9  College  HS/GED  Some college/AA\n",
            "agegrp   RIAGENDRx                                              \n",
            "(18, 30] Female    0.080 0.049    0.282   0.215            0.374\n",
            "         Male      0.117 0.042    0.258   0.250            0.333\n",
            "(30, 40] Female    0.089 0.097    0.314   0.165            0.335\n",
            "         Male      0.151 0.103    0.251   0.227            0.269\n",
            "(40, 50] Female    0.110 0.106    0.299   0.173            0.313\n",
            "         Male      0.142 0.112    0.274   0.209            0.262\n",
            "(50, 60] Female    0.117 0.102    0.245   0.234            0.302\n",
            "         Male      0.148 0.123    0.231   0.242            0.256\n",
            "(60, 70] Female    0.118 0.188    0.195   0.206            0.293\n",
            "         Male      0.135 0.151    0.233   0.231            0.249\n",
            "(70, 80] Female    0.105 0.225    0.149   0.240            0.281\n",
            "         Male      0.113 0.180    0.237   0.215            0.255\n"
          ]
        },
        {
          "output_type": "stream",
          "name": "stderr",
          "text": [
            "<ipython-input-53-de98233df5b5>:3: FutureWarning: The default of observed=False is deprecated and will be changed to True in a future version of pandas. Pass observed=False to retain current behavior or observed=True to adopt the future default and silence this warning.\n",
            "  modified_df = modified_df.groupby([\"agegrp\", \"RIAGENDRx\"])[\"DMDEDUC2x\"]\n"
          ]
        }
      ]
    }
  ]
}