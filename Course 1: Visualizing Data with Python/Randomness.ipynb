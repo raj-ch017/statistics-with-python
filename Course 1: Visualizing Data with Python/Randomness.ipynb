{
  "nbformat": 4,
  "nbformat_minor": 0,
  "metadata": {
    "colab": {
      "provenance": [],
      "authorship_tag": "ABX9TyOE+Njf0xTgDkU7ulUYdxzR"
    },
    "kernelspec": {
      "name": "python3",
      "display_name": "Python 3"
    },
    "language_info": {
      "name": "python"
    }
  },
  "cells": [
    {
      "cell_type": "markdown",
      "source": [
        "# Probability Distributions, Randomness, and Sampling\n",
        "---\n",
        "\n",
        "A probability distribution is a description of a means for generating random values. The probability distribution specifies what values can be observed (the sample space), and how likely it is that each specific value is observed (the probabilities). A simple example is a toss of a fair coin, where the sample space is {head, tail} and the corresponding probabilities are 1/2, 1/2.\n",
        "\n",
        "There are many \"named\" probability distributions such as the Normal, exponential, and Poisson distributions.\n",
        "\n",
        "In statistics, probability distributions are used to define the unknown population of interest, from which we observe a sample of data from which we learn about the population. This process of \"sampling\" is one of the fundamental issues that is considered by most statistical procedures.\n",
        "\n",
        "Many statistical procedures are based on idealized infinite populations (sometimes called superpopulations). For example, if we repeatedly measure the moisture content of a soil sample, we will obtain a slightly different value each time due to various inconsistencies in the measurement process. We might decide to treat these values as following a normal distribution, centered at the true (unknown) soil moisture concentration, with a dispersion (standard deviation) that reflects the precision of the measurement process. Since a sample of one observation from a normal distribution can produce any real number, this is an infinite population.\n",
        "\n",
        "When working with infinite populations, it is often useful to talk about an independent and identically distributed sample, or an IID sample. This is a collection of random values that follow the given distribution, which are independent of each other (we will discuss independence later in the course, but roughly speaking it means that no observation in the sample contains information that can be used to predict the value of another observation in the sample).\n",
        "\n",
        "Some statistical procedures take a finite population perspective, in which the population of interest is seen as a finite collection of unknown values, and we observe a simple random sample from this finite population.\n",
        "\n",
        "In this notebook we will consider sampling from both idealized infinite populations and finite populations."
      ],
      "metadata": {
        "id": "23LsEPdbbqWh"
      }
    },
    {
      "cell_type": "code",
      "source": [
        "import numpy as np"
      ],
      "metadata": {
        "id": "JTzqF56ucqkg"
      },
      "execution_count": null,
      "outputs": []
    },
    {
      "cell_type": "markdown",
      "source": [
        "# Generating Random Values from a Distribution\n",
        "\n",
        "In practice, we usually observe our data by making observations in the natural world, and then we analyze the data by fitting probability models to it. Sometimes it is useful to generate a sample of data from a given distribution.\n",
        "\n",
        "Below it is illustrated how to generate one observation, or an IID sample, from a few probability distributions.\n",
        "\n",
        "A **uniform** distribution on an interval `[a,b]` is one in which any value in the interval is equally likely to be observed."
      ],
      "metadata": {
        "id": "4otNc_0dcwTD"
      }
    },
    {
      "cell_type": "code",
      "source": [
        "np.random.uniform(25, 50)"
      ],
      "metadata": {
        "colab": {
          "base_uri": "https://localhost:8080/"
        },
        "id": "xzjIaWIwdd5U",
        "outputId": "3a2453d9-9faf-4aaf-cce9-73eb62e24909"
      },
      "execution_count": null,
      "outputs": [
        {
          "output_type": "execute_result",
          "data": {
            "text/plain": [
              "32.84834488843679"
            ]
          },
          "metadata": {},
          "execution_count": 2
        }
      ]
    },
    {
      "cell_type": "code",
      "source": [
        "np.random.uniform(25, 50, 50)"
      ],
      "metadata": {
        "colab": {
          "base_uri": "https://localhost:8080/"
        },
        "id": "e1VfpU-tdhpm",
        "outputId": "7782bef6-5b0f-4886-e80b-7889714ab8e1"
      },
      "execution_count": null,
      "outputs": [
        {
          "output_type": "execute_result",
          "data": {
            "text/plain": [
              "array([39.73097185, 38.27423424, 47.26673698, 45.02683963, 33.82282675,\n",
              "       37.31667534, 29.44023659, 48.51452207, 42.44251968, 25.68116181,\n",
              "       38.2559223 , 27.71475297, 41.80362188, 48.54503003, 34.10712521,\n",
              "       46.95841602, 41.32388401, 48.03931215, 41.15759993, 36.42731727,\n",
              "       33.45697469, 45.51798104, 37.56438611, 41.80211234, 46.77831144,\n",
              "       39.67594201, 48.66892112, 49.74295406, 37.1306636 , 49.21846607,\n",
              "       28.74856312, 26.8270093 , 36.48519438, 33.27706668, 27.53180491,\n",
              "       44.55929262, 49.40127401, 39.36805237, 47.56681439, 41.85587415,\n",
              "       31.39459898, 27.39562011, 31.79330343, 33.89846454, 41.74380325,\n",
              "       32.88905768, 36.17668197, 26.83842083, 46.97668038, 46.5468162 ])"
            ]
          },
          "metadata": {},
          "execution_count": 4
        }
      ]
    },
    {
      "cell_type": "markdown",
      "source": [
        "A **normal** distribution (also called a Gaussian distribution) is a distribution on the real number line with a 'bell shaped' density function. This means that there is a single **central value** which is the mean, and observations are quite strongly concentrated around this value. The dispersion of these values is determined by the standard deviation parameter $\\sigma$. In a normal distribution, about 95% of the observations will fall within $2\\sigma$ of the mean.\n",
        "\n",
        "Below, observations are generated from a normal distribution with mean zero and standard deviation equal to 1. Then a single observation is generated from a normal distribution with mean 5 and standard deviation 2."
      ],
      "metadata": {
        "id": "wZOSxWAWeCVh"
      }
    },
    {
      "cell_type": "code",
      "source": [
        "mu = 0\n",
        "sigma = 1\n",
        "np.random.normal(mu, sigma)"
      ],
      "metadata": {
        "colab": {
          "base_uri": "https://localhost:8080/"
        },
        "id": "0rPUOeLoe2OG",
        "outputId": "8e8b2a7c-7777-4ef5-a093-db33a7e8d99e"
      },
      "execution_count": null,
      "outputs": [
        {
          "output_type": "execute_result",
          "data": {
            "text/plain": [
              "-1.4696069663474955"
            ]
          },
          "metadata": {},
          "execution_count": 5
        }
      ]
    },
    {
      "cell_type": "code",
      "source": [
        "mu = 5\n",
        "sigma = 2\n",
        "np.random.normal(mu, sigma)"
      ],
      "metadata": {
        "colab": {
          "base_uri": "https://localhost:8080/"
        },
        "id": "CZQINIzje6OY",
        "outputId": "024d6af0-731e-4158-bd62-8f45d78c7a11"
      },
      "execution_count": null,
      "outputs": [
        {
          "output_type": "execute_result",
          "data": {
            "text/plain": [
              "3.2489575621909217"
            ]
          },
          "metadata": {},
          "execution_count": 6
        }
      ]
    },
    {
      "cell_type": "code",
      "source": [
        "mu = 0\n",
        "sigma = 1\n",
        "np.random.normal(mu, sigma, 50)"
      ],
      "metadata": {
        "colab": {
          "base_uri": "https://localhost:8080/"
        },
        "id": "irqArXlae_6a",
        "outputId": "47a7c539-7879-44d1-9f6d-ea688321f861"
      },
      "execution_count": null,
      "outputs": [
        {
          "output_type": "execute_result",
          "data": {
            "text/plain": [
              "array([-1.45537432, -0.03234071,  0.39552314,  0.44767518, -0.67422836,\n",
              "       -0.6682245 ,  0.50402416, -0.17642063,  0.4492342 ,  0.02590553,\n",
              "       -0.93680898, -0.73098408, -0.73907287, -0.82349657,  1.2224548 ,\n",
              "        1.19047152,  0.69237851,  0.87062407,  0.20345967, -1.27549918,\n",
              "        1.17403928, -0.78298902, -0.68636258, -0.94173918, -1.135426  ,\n",
              "       -1.8274851 ,  1.1201218 , -0.64524083,  1.22119121, -0.069807  ,\n",
              "       -0.26851585,  1.15200233,  0.12994158, -2.20657197,  0.17502874,\n",
              "        0.25875575,  0.57430646,  0.50714048, -0.95275011,  1.3734129 ,\n",
              "       -0.69622709, -1.42025626,  2.58975197, -0.82822791, -0.72397468,\n",
              "        1.4719674 ,  1.11421086,  0.91647121,  0.2938604 ,  0.29267546])"
            ]
          },
          "metadata": {},
          "execution_count": 7
        }
      ]
    },
    {
      "cell_type": "markdown",
      "source": [
        "# Random Sampling from a Finite Population\n",
        "\n",
        "Suppose there is a finite population, and there is a list of sample space. A simple random sample (SRS) of size m is one in which all possible subsets of size `m` can be observed.\n",
        "\n",
        "Since a simple random ssample cannot include the same observation two times, this is also sometimes called `sampling without replacement`."
      ],
      "metadata": {
        "id": "eZwZMMc2ftOs"
      }
    },
    {
      "cell_type": "code",
      "source": [
        "import string\n",
        "x = [_ for _ in string.ascii_lowercase]"
      ],
      "metadata": {
        "id": "_HQ33U8SgQM3"
      },
      "execution_count": null,
      "outputs": []
    },
    {
      "cell_type": "code",
      "source": [
        "rng = np.random.default_rng(12345)\n",
        "\n",
        "for _ in range(5):\n",
        "  print(rng.choice(x, 5, replace = False))"
      ],
      "metadata": {
        "colab": {
          "base_uri": "https://localhost:8080/"
        },
        "id": "xVijMV2UgxOw",
        "outputId": "0e3c398c-1143-4901-87ed-2f2b2a6ee7c2"
      },
      "execution_count": null,
      "outputs": [
        {
          "output_type": "stream",
          "name": "stdout",
          "text": [
            "['p' 'f' 'z' 's' 'h']\n",
            "['h' 'p' 'o' 'i' 't']\n",
            "['v' 'n' 'g' 'q' 'x']\n",
            "['g' 'b' 'c' 'x' 'k']\n",
            "['s' 'f' 'z' 'q' 'c']\n"
          ]
        }
      ]
    },
    {
      "cell_type": "code",
      "source": [
        "np.random.choice(x, 5)"
      ],
      "metadata": {
        "colab": {
          "base_uri": "https://localhost:8080/"
        },
        "id": "Qhhosiyygojn",
        "outputId": "9a0c713e-d1e0-40f6-db4a-b5fe07b5f648"
      },
      "execution_count": null,
      "outputs": [
        {
          "output_type": "execute_result",
          "data": {
            "text/plain": [
              "array(['o', 'o', 'i', 'p', 'g'], dtype='<U1')"
            ]
          },
          "metadata": {},
          "execution_count": 21
        }
      ]
    },
    {
      "cell_type": "code",
      "source": [
        "import matplotlib.pyplot as plt\n",
        "import seaborn as sns"
      ],
      "metadata": {
        "id": "AZOjTJKUfIQK"
      },
      "execution_count": null,
      "outputs": []
    },
    {
      "cell_type": "code",
      "source": [
        "uniform_vals = np.random.uniform(25, 50, 1000)\n",
        "normal_vals = np.random.normal(0, 1, 1000)"
      ],
      "metadata": {
        "id": "QHSDwzXkfNeo"
      },
      "execution_count": null,
      "outputs": []
    },
    {
      "cell_type": "code",
      "source": [
        "plt.hist(uniform_vals, bins = 10, density=True);"
      ],
      "metadata": {
        "colab": {
          "base_uri": "https://localhost:8080/",
          "height": 432
        },
        "id": "VaSCdEN8fVZe",
        "outputId": "d4c061a2-305d-4875-b50d-db9295ec249b"
      },
      "execution_count": null,
      "outputs": [
        {
          "output_type": "display_data",
          "data": {
            "text/plain": [
              "<Figure size 640x480 with 1 Axes>"
            ],
            "image/png": "[encoded data removed]"
          },
          "metadata": {}
        }
      ]
    },
    {
      "cell_type": "code",
      "source": [
        "plt.hist(normal_vals, bins = 10, density=True);"
      ],
      "metadata": {
        "colab": {
          "base_uri": "https://localhost:8080/",
          "height": 430
        },
        "id": "pKfiLvcQfih_",
        "outputId": "ab1ad7ba-cbd0-4a2a-b106-e69ee9b3212b"
      },
      "execution_count": null,
      "outputs": [
        {
          "output_type": "display_data",
          "data": {
            "text/plain": [
              "<Figure size 640x480 with 1 Axes>"
            ],
            "image/png": "[encoded data removed]"
          },
          "metadata": {}
        }
      ]
    },
    {
      "cell_type": "code",
      "source": [
        "np.quantile(normal_vals, [0.95])"
      ],
      "metadata": {
        "colab": {
          "base_uri": "https://localhost:8080/"
        },
        "id": "NtVYvGFfhISy",
        "outputId": "6b255098-3af3-4206-dfeb-748306b511f8"
      },
      "execution_count": null,
      "outputs": [
        {
          "output_type": "execute_result",
          "data": {
            "text/plain": [
              "array([1.75646678])"
            ]
          },
          "metadata": {},
          "execution_count": 27
        }
      ]
    },
    {
      "cell_type": "code",
      "source": [
        "np.mean(uniform_vals)"
      ],
      "metadata": {
        "colab": {
          "base_uri": "https://localhost:8080/"
        },
        "id": "0T7_I4EThnF5",
        "outputId": "9ad5b674-29cf-4131-c40c-f041c2597f82"
      },
      "execution_count": null,
      "outputs": [
        {
          "output_type": "execute_result",
          "data": {
            "text/plain": [
              "np.float64(37.64273854147008)"
            ]
          },
          "metadata": {},
          "execution_count": 30
        }
      ]
    },
    {
      "cell_type": "code",
      "source": [
        "np.std(uniform_vals)"
      ],
      "metadata": {
        "colab": {
          "base_uri": "https://localhost:8080/"
        },
        "id": "Ix5u07uzhhCh",
        "outputId": "9f1beb9b-3799-4490-9b65-5cb30d8946e3"
      },
      "execution_count": null,
      "outputs": [
        {
          "output_type": "execute_result",
          "data": {
            "text/plain": [
              "np.float64(6.976945582830702)"
            ]
          },
          "metadata": {},
          "execution_count": 29
        }
      ]
    },
    {
      "cell_type": "markdown",
      "source": [
        "# Notes\n",
        "\n",
        "* The code uses a `Generator` object instead of `np.random.choice` as the generator has it's own independent random state."
      ],
      "metadata": {
        "id": "tUnAUgR4q_AB"
      }
    }
  ]
}